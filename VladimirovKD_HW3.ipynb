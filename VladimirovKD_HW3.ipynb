{
 "cells": [
  {
   "cell_type": "markdown",
   "id": "541a45e6-bbf9-4ff6-9e07-2e2f1f55694a",
   "metadata": {},
   "source": [
    "# Домашнее задание 3. Pandas (HW)"
   ]
  },
  {
   "cell_type": "markdown",
   "id": "86f0356c-ebe1-41f1-a850-584bf42df063",
   "metadata": {},
   "source": [
    "## Описание задачи\n",
    "В приложенных файлах вы увидите данные по прохождению студентами тестов на образовательной платформе. Такие данные могут быть использованы для построения персонализированных ИИ-ассистентов для поддержки обучения студента. На текущем этапе сосредоточимся на начальном этапе — сборе и подготовке данных."
   ]
  },
  {
   "cell_type": "markdown",
   "id": "7de18f69-496e-4d9d-a7a0-a1efd8561c31",
   "metadata": {},
   "source": [
    "## Цель"
   ]
  },
  {
   "cell_type": "markdown",
   "id": "118e577d-cad4-467f-8dc3-221229ed4838",
   "metadata": {},
   "source": [
    "Используя библиотеку pandas (или аналоги), проанализировать как можно больше характеристик, влияющих на успеваемость студентов.\n",
    "\n",
    "- Проанализированы все возможные признаки\n",
    "- Код хорошо читается и задокументирован, соответствует pep-8\n",
    "- Код работоспособный"
   ]
  },
  {
   "cell_type": "markdown",
   "id": "555bb15e-f71f-4d55-8cc9-8f6978d810df",
   "metadata": {},
   "source": [
    "## Описание данных\n",
    "\n",
    "### train.csv\n",
    "- row_id: (int64) Идентификатор строки.\n",
    "- timestamp: (int64) время в миллисекундах между взаимодействием пользователя и первым завершением события от этого пользователя.\n",
    "- user_id: (int32) Идентификатор польователя.\n",
    "- content_id: (int16) Идентификатор пользовательского взаимодействия\n",
    "- content_type_id: (int8) 0, если событием был вопрос, заданный пользователю, 1, если событием был просмотр пользователем лекции.\n",
    "- task_container_id: (int16) Код идентификатора для пакета вопросов или лекций. Например, пользователь может увидеть три вопроса подряд, прежде чем увидеть объяснения для любого из них. Все эти три вопроса будут иметь общий task_container_id.\n",
    "- user_answer: (int8) ответ пользователя на вопрос, если таковой имеется. Читать -1 как NULL, для лекций.\n",
    "- answered_correctly: (int8) если пользователь ответил правильно. Читайте -1 как NULL, для лекций.\n",
    "- prior_question_elapsed_time: (float32) Среднее время в миллисекундах, которое потребовалось пользователю для ответа на каждый вопрос в предыдущем пакете вопросов, игнорируя любые лекции между ними. Имеет значение null для первого пакета вопросов или лекции пользователя. Обратите внимание, что время — это среднее время, которое потребовалось пользователю для решения каждого вопроса в предыдущем пакете.\n",
    "- prior_question_had_explanation: (bool) Увидел ли пользователь объяснение и правильный ответ(ы) после ответа на предыдущий пакет вопросов, игнорируя любые лекции между ними. Значение является общим для одного пакета вопросов и равно NULL для первого пакета вопросов или лекции пользователя. Обычно первые несколько вопросов, которые видит пользователь, были частью диагностического теста на вступление, где он не получал никакой обратной связи.\n",
    "\n",
    "\n",
    "### questions.csv: метаданные вопросов, заданных пользователям.\n",
    "- question_id: внешний ключ для обучающего/тестового столбца content_id, когда тип контента — вопрос (0).\n",
    "- bundle_id: код, по которому вопросы подаются вместе.\n",
    "- correct_answer: ответ на вопрос. Можно сравнить с train user_answer столбцом, чтобы проверить, был ли пользователь прав.\n",
    "- part: соответствующий раздел теста TOEIC.\n",
    "- tags: один или несколько подробных кодов тегов для вопроса. Значение тегов не будет предоставлено, но этих кодов достаточно для кластеризации вопросов.\n",
    "\n",
    "\n",
    "### lectures.csv: метаданные лекций, просмотренных пользователями по мере продвижения своего образования.\n",
    "- lecture_id: внешний ключ для обучающего/тестового столбца content_id, когда типом контента является лекция (1).\n",
    "- part: код категории верхнего уровня для лекции.\n",
    "- tag: один тег коды для лекции. Значение тегов не будет предоставлено, но эти коды достаточны для кластеризации лекций вместе.\n",
    "- type_of: краткое описание основной цели лекции."
   ]
  },
  {
   "cell_type": "code",
   "execution_count": null,
   "id": "a1e2d56c-df81-4c31-9c22-45407eba49be",
   "metadata": {},
   "outputs": [],
   "source": []
  },
  {
   "cell_type": "code",
   "execution_count": null,
   "id": "eb62967a-ee06-424f-bcc1-18a464bb2717",
   "metadata": {},
   "outputs": [],
   "source": []
  },
  {
   "cell_type": "markdown",
   "id": "c9085bdc-e251-4687-8227-4b9074413017",
   "metadata": {},
   "source": [
    "# Setup"
   ]
  },
  {
   "cell_type": "markdown",
   "id": "79aed4ad-3c8e-4156-b0a1-bb154827e2c4",
   "metadata": {},
   "source": [
    "## Library import"
   ]
  },
  {
   "cell_type": "code",
   "execution_count": 148,
   "id": "e00c126d-037d-4d58-afb7-2ed5558b8ed8",
   "metadata": {},
   "outputs": [
    {
     "name": "stdout",
     "output_type": "stream",
     "text": [
      "The autoreload extension is already loaded. To reload it, use:\n",
      "  %reload_ext autoreload\n"
     ]
    }
   ],
   "source": [
    "import warnings \n",
    "warnings.filterwarnings('ignore')\n",
    "\n",
    "from omegaconf import OmegaConf\n",
    "from collections import Counter\n",
    "\n",
    "# Data manipulation\n",
    "import pandas as pd\n",
    "import numpy as np\n",
    "\n",
    "# Options for pandas\n",
    "pd.options.display.max_columns = 50\n",
    "pd.options.display.max_rows = 30\n",
    "\n",
    "# Visualizations\n",
    "import matplotlib.pyplot as plt\n",
    "%matplotlib inline\n",
    "import matplotlib.style as style\n",
    "style.use('fivethirtyeight')\n",
    "import seaborn as sns\n",
    "from matplotlib.ticker import FuncFormatter\n",
    "colorMap = sns.light_palette(\"blue\", as_cmap=True)\n",
    "\n",
    "# Autoreload extension\n",
    "if 'autoreload' not in get_ipython().extension_manager.loaded:\n",
    "    %load_ext autoreload\n",
    "    \n",
    "%autoreload 2"
   ]
  },
  {
   "cell_type": "markdown",
   "id": "532234d9-7fb5-4ac5-8cf4-189e69fdc5a2",
   "metadata": {},
   "source": [
    "## Parameter definition"
   ]
  },
  {
   "cell_type": "markdown",
   "id": "fb084423-80dd-482f-af30-5067666d6561",
   "metadata": {},
   "source": [
    "Здесь приведены все параметры для блокнота"
   ]
  },
  {
   "cell_type": "code",
   "execution_count": 2,
   "id": "07c863b0-5f88-4673-bce1-21052303e0b3",
   "metadata": {},
   "outputs": [],
   "source": [
    "cfg = OmegaConf.create({\n",
    "    \"train_path\" : \"./data/train.csv\", \n",
    "    \"lectures_path\" : \"./data/lectures.csv\", \n",
    "    \"questions_path\" : \"./data/questions.csv\", \n",
    "})"
   ]
  },
  {
   "cell_type": "code",
   "execution_count": 3,
   "id": "87031cef-4b9b-4937-9e4b-3dce31a60ad3",
   "metadata": {},
   "outputs": [
    {
     "data": {
      "text/plain": [
       "{'train_path': './data/train.csv', 'lectures_path': './data/lectures.csv', 'questions_path': './data/questions.csv'}"
      ]
     },
     "execution_count": 3,
     "metadata": {},
     "output_type": "execute_result"
    }
   ],
   "source": [
    "cfg"
   ]
  },
  {
   "cell_type": "markdown",
   "id": "c048fcd8-c2b1-4bf0-b8e6-10b5844f24a3",
   "metadata": {},
   "source": [
    "# Data import"
   ]
  },
  {
   "cell_type": "markdown",
   "id": "82c43298-d846-4355-9c1e-152222591d9c",
   "metadata": {},
   "source": [
    "### Загрузка тренировочных данных"
   ]
  },
  {
   "cell_type": "markdown",
   "id": "0e4cb52b-4e07-46ba-a4d2-1512b282e451",
   "metadata": {},
   "source": [
    "Тренировочные данные имеют большой размер. Можно попробывать 2 способа их загрузки"
   ]
  },
  {
   "cell_type": "markdown",
   "id": "498f1d15-cb2e-4ce6-af90-eca3514ba2db",
   "metadata": {},
   "source": [
    "1. Загрузить без параметров"
   ]
  },
  {
   "cell_type": "code",
   "execution_count": 4,
   "id": "e172c2f3-531f-4236-a609-0260b8b09555",
   "metadata": {},
   "outputs": [
    {
     "name": "stdout",
     "output_type": "stream",
     "text": [
      "CPU times: total: 1min 33s\n",
      "Wall time: 1min 43s\n"
     ]
    }
   ],
   "source": [
    "%%time\n",
    "\n",
    "train_df = pd.read_csv(cfg.train_path)"
   ]
  },
  {
   "cell_type": "code",
   "execution_count": 5,
   "id": "9b65e151-591d-4c5b-bd08-fde516e8b6d5",
   "metadata": {},
   "outputs": [
    {
     "name": "stdout",
     "output_type": "stream",
     "text": [
      "<class 'pandas.core.frame.DataFrame'>\n",
      "RangeIndex: 101230332 entries, 0 to 101230331\n",
      "Data columns (total 10 columns):\n",
      " #   Column                          Dtype  \n",
      "---  ------                          -----  \n",
      " 0   row_id                          int64  \n",
      " 1   timestamp                       int64  \n",
      " 2   user_id                         int64  \n",
      " 3   content_id                      int64  \n",
      " 4   content_type_id                 int64  \n",
      " 5   task_container_id               int64  \n",
      " 6   user_answer                     int64  \n",
      " 7   answered_correctly              int64  \n",
      " 8   prior_question_elapsed_time     float64\n",
      " 9   prior_question_had_explanation  object \n",
      "dtypes: float64(1), int64(8), object(1)\n",
      "memory usage: 7.5+ GB\n"
     ]
    }
   ],
   "source": [
    "train_df.info()"
   ]
  },
  {
   "cell_type": "markdown",
   "id": "0a57c3c2-7230-4173-88d2-6cde3d36e6ac",
   "metadata": {},
   "source": [
    "2. Загрузка с перечесление типов данных для котлонок"
   ]
  },
  {
   "cell_type": "code",
   "execution_count": 4,
   "id": "5abdda11-cf34-47fe-86f9-cff1e61c53a4",
   "metadata": {},
   "outputs": [],
   "source": [
    "dtypes = {\n",
    "    \"row_id\": \"int64\",\n",
    "    \"timestamp\": \"int64\",\n",
    "    \"user_id\": \"int32\",\n",
    "    \"content_id\": \"int16\",\n",
    "    \"content_type_id\": \"boolean\",\n",
    "    \"task_container_id\": \"int16\",\n",
    "    \"user_answer\": \"int8\",\n",
    "    \"answered_correctly\": \"int8\",\n",
    "    \"prior_question_elapsed_time\": \"float32\", \n",
    "    \"prior_question_had_explanation\": \"boolean\"\n",
    "}"
   ]
  },
  {
   "cell_type": "code",
   "execution_count": 5,
   "id": "1123d18d-fb03-4068-8a9d-d16c31404d4e",
   "metadata": {},
   "outputs": [
    {
     "name": "stdout",
     "output_type": "stream",
     "text": [
      "CPU times: total: 3min 9s\n",
      "Wall time: 4min 9s\n"
     ]
    }
   ],
   "source": [
    "%%time\n",
    "\n",
    "train_df = pd.read_csv(cfg.train_path, dtype=dtypes)"
   ]
  },
  {
   "cell_type": "code",
   "execution_count": 6,
   "id": "f038b08d-359d-4e01-9c40-9c07e2bdca1f",
   "metadata": {},
   "outputs": [
    {
     "name": "stdout",
     "output_type": "stream",
     "text": [
      "<class 'pandas.core.frame.DataFrame'>\n",
      "RangeIndex: 101230332 entries, 0 to 101230331\n",
      "Data columns (total 10 columns):\n",
      " #   Column                          Dtype  \n",
      "---  ------                          -----  \n",
      " 0   row_id                          int64  \n",
      " 1   timestamp                       int64  \n",
      " 2   user_id                         int32  \n",
      " 3   content_id                      int16  \n",
      " 4   content_type_id                 boolean\n",
      " 5   task_container_id               int16  \n",
      " 6   user_answer                     int8   \n",
      " 7   answered_correctly              int8   \n",
      " 8   prior_question_elapsed_time     float32\n",
      " 9   prior_question_had_explanation  boolean\n",
      "dtypes: boolean(2), float32(1), int16(2), int32(1), int64(2), int8(2)\n",
      "memory usage: 3.2 GB\n"
     ]
    }
   ],
   "source": [
    "train_df.info()"
   ]
  },
  {
   "cell_type": "markdown",
   "id": "dd6c1b01-d169-4386-bf03-169a8ed8a236",
   "metadata": {},
   "source": [
    "Вывод: во втором случае сократилось использование памяти в 2 раза."
   ]
  },
  {
   "cell_type": "code",
   "execution_count": null,
   "id": "a18752c8-196a-425b-94e4-41e97a03c785",
   "metadata": {},
   "outputs": [],
   "source": []
  },
  {
   "cell_type": "code",
   "execution_count": 9,
   "id": "a6aeb9e8-ee8b-430f-bf6b-0cad68283089",
   "metadata": {
    "scrolled": true
   },
   "outputs": [
    {
     "data": {
      "text/html": [
       "<div>\n",
       "<style scoped>\n",
       "    .dataframe tbody tr th:only-of-type {\n",
       "        vertical-align: middle;\n",
       "    }\n",
       "\n",
       "    .dataframe tbody tr th {\n",
       "        vertical-align: top;\n",
       "    }\n",
       "\n",
       "    .dataframe thead th {\n",
       "        text-align: right;\n",
       "    }\n",
       "</style>\n",
       "<table border=\"1\" class=\"dataframe\">\n",
       "  <thead>\n",
       "    <tr style=\"text-align: right;\">\n",
       "      <th></th>\n",
       "      <th>row_id</th>\n",
       "      <th>timestamp</th>\n",
       "      <th>user_id</th>\n",
       "      <th>content_id</th>\n",
       "      <th>content_type_id</th>\n",
       "      <th>task_container_id</th>\n",
       "      <th>user_answer</th>\n",
       "      <th>answered_correctly</th>\n",
       "      <th>prior_question_elapsed_time</th>\n",
       "      <th>prior_question_had_explanation</th>\n",
       "    </tr>\n",
       "  </thead>\n",
       "  <tbody>\n",
       "    <tr>\n",
       "      <th>0</th>\n",
       "      <td>0</td>\n",
       "      <td>0</td>\n",
       "      <td>115</td>\n",
       "      <td>5692</td>\n",
       "      <td>False</td>\n",
       "      <td>1</td>\n",
       "      <td>3</td>\n",
       "      <td>1</td>\n",
       "      <td>NaN</td>\n",
       "      <td>&lt;NA&gt;</td>\n",
       "    </tr>\n",
       "    <tr>\n",
       "      <th>1</th>\n",
       "      <td>1</td>\n",
       "      <td>56943</td>\n",
       "      <td>115</td>\n",
       "      <td>5716</td>\n",
       "      <td>False</td>\n",
       "      <td>2</td>\n",
       "      <td>2</td>\n",
       "      <td>1</td>\n",
       "      <td>37000.0</td>\n",
       "      <td>False</td>\n",
       "    </tr>\n",
       "    <tr>\n",
       "      <th>2</th>\n",
       "      <td>2</td>\n",
       "      <td>118363</td>\n",
       "      <td>115</td>\n",
       "      <td>128</td>\n",
       "      <td>False</td>\n",
       "      <td>0</td>\n",
       "      <td>0</td>\n",
       "      <td>1</td>\n",
       "      <td>55000.0</td>\n",
       "      <td>False</td>\n",
       "    </tr>\n",
       "    <tr>\n",
       "      <th>3</th>\n",
       "      <td>3</td>\n",
       "      <td>131167</td>\n",
       "      <td>115</td>\n",
       "      <td>7860</td>\n",
       "      <td>False</td>\n",
       "      <td>3</td>\n",
       "      <td>0</td>\n",
       "      <td>1</td>\n",
       "      <td>19000.0</td>\n",
       "      <td>False</td>\n",
       "    </tr>\n",
       "    <tr>\n",
       "      <th>4</th>\n",
       "      <td>4</td>\n",
       "      <td>137965</td>\n",
       "      <td>115</td>\n",
       "      <td>7922</td>\n",
       "      <td>False</td>\n",
       "      <td>4</td>\n",
       "      <td>1</td>\n",
       "      <td>1</td>\n",
       "      <td>11000.0</td>\n",
       "      <td>False</td>\n",
       "    </tr>\n",
       "  </tbody>\n",
       "</table>\n",
       "</div>"
      ],
      "text/plain": [
       "   row_id  timestamp  user_id  content_id  content_type_id  task_container_id  \\\n",
       "0       0          0      115        5692            False                  1   \n",
       "1       1      56943      115        5716            False                  2   \n",
       "2       2     118363      115         128            False                  0   \n",
       "3       3     131167      115        7860            False                  3   \n",
       "4       4     137965      115        7922            False                  4   \n",
       "\n",
       "   user_answer  answered_correctly  prior_question_elapsed_time  \\\n",
       "0            3                   1                          NaN   \n",
       "1            2                   1                      37000.0   \n",
       "2            0                   1                      55000.0   \n",
       "3            0                   1                      19000.0   \n",
       "4            1                   1                      11000.0   \n",
       "\n",
       "   prior_question_had_explanation  \n",
       "0                            <NA>  \n",
       "1                           False  \n",
       "2                           False  \n",
       "3                           False  \n",
       "4                           False  "
      ]
     },
     "execution_count": 9,
     "metadata": {},
     "output_type": "execute_result"
    }
   ],
   "source": [
    "train_df.head()"
   ]
  },
  {
   "cell_type": "code",
   "execution_count": 10,
   "id": "894017d7-af9c-4e76-949f-c4020dbd084c",
   "metadata": {},
   "outputs": [
    {
     "data": {
      "text/plain": [
       "(101230332, 10)"
      ]
     },
     "execution_count": 10,
     "metadata": {},
     "output_type": "execute_result"
    }
   ],
   "source": [
    "train_df.shape"
   ]
  },
  {
   "cell_type": "code",
   "execution_count": null,
   "id": "9605713d-ee4a-4154-ae87-18ddc7523ce2",
   "metadata": {},
   "outputs": [],
   "source": []
  },
  {
   "cell_type": "code",
   "execution_count": null,
   "id": "5f045889-b3b5-4eab-b54c-0ff6aaba56a6",
   "metadata": {},
   "outputs": [],
   "source": []
  },
  {
   "cell_type": "markdown",
   "id": "3171357a-a9a4-46b6-a291-1ae8f2ffb2d7",
   "metadata": {},
   "source": [
    "### Загрузка метаданных лекций"
   ]
  },
  {
   "cell_type": "code",
   "execution_count": 61,
   "id": "ecd23921-3eae-4187-803d-810f157ad104",
   "metadata": {},
   "outputs": [],
   "source": [
    "lectures_df = pd.read_csv(cfg.lectures_path)"
   ]
  },
  {
   "cell_type": "code",
   "execution_count": 62,
   "id": "75169cdc-59eb-43b3-878b-7dce71682b54",
   "metadata": {},
   "outputs": [
    {
     "data": {
      "text/html": [
       "<div>\n",
       "<style scoped>\n",
       "    .dataframe tbody tr th:only-of-type {\n",
       "        vertical-align: middle;\n",
       "    }\n",
       "\n",
       "    .dataframe tbody tr th {\n",
       "        vertical-align: top;\n",
       "    }\n",
       "\n",
       "    .dataframe thead th {\n",
       "        text-align: right;\n",
       "    }\n",
       "</style>\n",
       "<table border=\"1\" class=\"dataframe\">\n",
       "  <thead>\n",
       "    <tr style=\"text-align: right;\">\n",
       "      <th></th>\n",
       "      <th>lecture_id</th>\n",
       "      <th>tag</th>\n",
       "      <th>part</th>\n",
       "      <th>type_of</th>\n",
       "    </tr>\n",
       "  </thead>\n",
       "  <tbody>\n",
       "    <tr>\n",
       "      <th>0</th>\n",
       "      <td>89</td>\n",
       "      <td>159</td>\n",
       "      <td>5</td>\n",
       "      <td>concept</td>\n",
       "    </tr>\n",
       "    <tr>\n",
       "      <th>1</th>\n",
       "      <td>100</td>\n",
       "      <td>70</td>\n",
       "      <td>1</td>\n",
       "      <td>concept</td>\n",
       "    </tr>\n",
       "    <tr>\n",
       "      <th>2</th>\n",
       "      <td>185</td>\n",
       "      <td>45</td>\n",
       "      <td>6</td>\n",
       "      <td>concept</td>\n",
       "    </tr>\n",
       "    <tr>\n",
       "      <th>3</th>\n",
       "      <td>192</td>\n",
       "      <td>79</td>\n",
       "      <td>5</td>\n",
       "      <td>solving question</td>\n",
       "    </tr>\n",
       "    <tr>\n",
       "      <th>4</th>\n",
       "      <td>317</td>\n",
       "      <td>156</td>\n",
       "      <td>5</td>\n",
       "      <td>solving question</td>\n",
       "    </tr>\n",
       "  </tbody>\n",
       "</table>\n",
       "</div>"
      ],
      "text/plain": [
       "   lecture_id  tag  part           type_of\n",
       "0          89  159     5           concept\n",
       "1         100   70     1           concept\n",
       "2         185   45     6           concept\n",
       "3         192   79     5  solving question\n",
       "4         317  156     5  solving question"
      ]
     },
     "execution_count": 62,
     "metadata": {},
     "output_type": "execute_result"
    }
   ],
   "source": [
    "lectures_df.head()"
   ]
  },
  {
   "cell_type": "code",
   "execution_count": 63,
   "id": "ee4bda8f-cd58-4e29-a3a0-723863569eb1",
   "metadata": {},
   "outputs": [
    {
     "data": {
      "text/plain": [
       "(418, 4)"
      ]
     },
     "execution_count": 63,
     "metadata": {},
     "output_type": "execute_result"
    }
   ],
   "source": [
    "lectures_df.shape"
   ]
  },
  {
   "cell_type": "code",
   "execution_count": null,
   "id": "c0a8ecca-8f24-4f26-b6bf-6d02af631af0",
   "metadata": {},
   "outputs": [],
   "source": []
  },
  {
   "cell_type": "code",
   "execution_count": null,
   "id": "c9208003-72d5-4940-97fc-53cb22853125",
   "metadata": {},
   "outputs": [],
   "source": []
  },
  {
   "cell_type": "markdown",
   "id": "27a418bd-d6c6-4635-afd2-2129abe0431c",
   "metadata": {},
   "source": [
    "### Загрузка метаданных вопросов"
   ]
  },
  {
   "cell_type": "code",
   "execution_count": 64,
   "id": "4d58ffdb-a0b2-44da-9dbf-19e8b2ba7fc2",
   "metadata": {},
   "outputs": [],
   "source": [
    "questions_df = pd.read_csv(cfg.questions_path)"
   ]
  },
  {
   "cell_type": "code",
   "execution_count": 65,
   "id": "d4f3ca52-1834-451b-aa6f-a9b9f1b1928a",
   "metadata": {},
   "outputs": [
    {
     "data": {
      "text/html": [
       "<div>\n",
       "<style scoped>\n",
       "    .dataframe tbody tr th:only-of-type {\n",
       "        vertical-align: middle;\n",
       "    }\n",
       "\n",
       "    .dataframe tbody tr th {\n",
       "        vertical-align: top;\n",
       "    }\n",
       "\n",
       "    .dataframe thead th {\n",
       "        text-align: right;\n",
       "    }\n",
       "</style>\n",
       "<table border=\"1\" class=\"dataframe\">\n",
       "  <thead>\n",
       "    <tr style=\"text-align: right;\">\n",
       "      <th></th>\n",
       "      <th>question_id</th>\n",
       "      <th>bundle_id</th>\n",
       "      <th>correct_answer</th>\n",
       "      <th>part</th>\n",
       "      <th>tags</th>\n",
       "    </tr>\n",
       "  </thead>\n",
       "  <tbody>\n",
       "    <tr>\n",
       "      <th>0</th>\n",
       "      <td>0</td>\n",
       "      <td>0</td>\n",
       "      <td>0</td>\n",
       "      <td>1</td>\n",
       "      <td>51 131 162 38</td>\n",
       "    </tr>\n",
       "    <tr>\n",
       "      <th>1</th>\n",
       "      <td>1</td>\n",
       "      <td>1</td>\n",
       "      <td>1</td>\n",
       "      <td>1</td>\n",
       "      <td>131 36 81</td>\n",
       "    </tr>\n",
       "    <tr>\n",
       "      <th>2</th>\n",
       "      <td>2</td>\n",
       "      <td>2</td>\n",
       "      <td>0</td>\n",
       "      <td>1</td>\n",
       "      <td>131 101 162 92</td>\n",
       "    </tr>\n",
       "    <tr>\n",
       "      <th>3</th>\n",
       "      <td>3</td>\n",
       "      <td>3</td>\n",
       "      <td>0</td>\n",
       "      <td>1</td>\n",
       "      <td>131 149 162 29</td>\n",
       "    </tr>\n",
       "    <tr>\n",
       "      <th>4</th>\n",
       "      <td>4</td>\n",
       "      <td>4</td>\n",
       "      <td>3</td>\n",
       "      <td>1</td>\n",
       "      <td>131 5 162 38</td>\n",
       "    </tr>\n",
       "  </tbody>\n",
       "</table>\n",
       "</div>"
      ],
      "text/plain": [
       "   question_id  bundle_id  correct_answer  part            tags\n",
       "0            0          0               0     1   51 131 162 38\n",
       "1            1          1               1     1       131 36 81\n",
       "2            2          2               0     1  131 101 162 92\n",
       "3            3          3               0     1  131 149 162 29\n",
       "4            4          4               3     1    131 5 162 38"
      ]
     },
     "execution_count": 65,
     "metadata": {},
     "output_type": "execute_result"
    }
   ],
   "source": [
    "questions_df.head()"
   ]
  },
  {
   "cell_type": "code",
   "execution_count": 66,
   "id": "5da08451-0959-4800-8529-3d0cfd8111c6",
   "metadata": {},
   "outputs": [
    {
     "data": {
      "text/plain": [
       "(13523, 5)"
      ]
     },
     "execution_count": 66,
     "metadata": {},
     "output_type": "execute_result"
    }
   ],
   "source": [
    "questions_df.shape"
   ]
  },
  {
   "cell_type": "code",
   "execution_count": null,
   "id": "1713a6d0-69c0-4891-814f-fb3a26a2d5a3",
   "metadata": {},
   "outputs": [],
   "source": []
  },
  {
   "cell_type": "code",
   "execution_count": null,
   "id": "95b9fe6c-b5a5-4ba8-9fde-2a1cfdb2eb43",
   "metadata": {},
   "outputs": [],
   "source": []
  },
  {
   "cell_type": "markdown",
   "id": "9d463485-8ee4-4bfd-b2d6-bab863b6c841",
   "metadata": {},
   "source": [
    "# Data processing"
   ]
  },
  {
   "cell_type": "markdown",
   "id": "d29402a5-f447-419c-8a0d-881e138f6619",
   "metadata": {},
   "source": [
    "## EDA Train"
   ]
  },
  {
   "cell_type": "code",
   "execution_count": 17,
   "id": "6ccc06dc-3466-4bd0-8d67-a3b027a7d7d8",
   "metadata": {},
   "outputs": [
    {
     "data": {
      "text/html": [
       "<div>\n",
       "<style scoped>\n",
       "    .dataframe tbody tr th:only-of-type {\n",
       "        vertical-align: middle;\n",
       "    }\n",
       "\n",
       "    .dataframe tbody tr th {\n",
       "        vertical-align: top;\n",
       "    }\n",
       "\n",
       "    .dataframe thead th {\n",
       "        text-align: right;\n",
       "    }\n",
       "</style>\n",
       "<table border=\"1\" class=\"dataframe\">\n",
       "  <thead>\n",
       "    <tr style=\"text-align: right;\">\n",
       "      <th></th>\n",
       "      <th>row_id</th>\n",
       "      <th>timestamp</th>\n",
       "      <th>user_id</th>\n",
       "      <th>content_id</th>\n",
       "      <th>content_type_id</th>\n",
       "      <th>task_container_id</th>\n",
       "      <th>user_answer</th>\n",
       "      <th>answered_correctly</th>\n",
       "      <th>prior_question_elapsed_time</th>\n",
       "      <th>prior_question_had_explanation</th>\n",
       "    </tr>\n",
       "  </thead>\n",
       "  <tbody>\n",
       "    <tr>\n",
       "      <th>0</th>\n",
       "      <td>0</td>\n",
       "      <td>0</td>\n",
       "      <td>115</td>\n",
       "      <td>5692</td>\n",
       "      <td>False</td>\n",
       "      <td>1</td>\n",
       "      <td>3</td>\n",
       "      <td>1</td>\n",
       "      <td>NaN</td>\n",
       "      <td>&lt;NA&gt;</td>\n",
       "    </tr>\n",
       "    <tr>\n",
       "      <th>1</th>\n",
       "      <td>1</td>\n",
       "      <td>56943</td>\n",
       "      <td>115</td>\n",
       "      <td>5716</td>\n",
       "      <td>False</td>\n",
       "      <td>2</td>\n",
       "      <td>2</td>\n",
       "      <td>1</td>\n",
       "      <td>37000.0</td>\n",
       "      <td>False</td>\n",
       "    </tr>\n",
       "    <tr>\n",
       "      <th>2</th>\n",
       "      <td>2</td>\n",
       "      <td>118363</td>\n",
       "      <td>115</td>\n",
       "      <td>128</td>\n",
       "      <td>False</td>\n",
       "      <td>0</td>\n",
       "      <td>0</td>\n",
       "      <td>1</td>\n",
       "      <td>55000.0</td>\n",
       "      <td>False</td>\n",
       "    </tr>\n",
       "    <tr>\n",
       "      <th>3</th>\n",
       "      <td>3</td>\n",
       "      <td>131167</td>\n",
       "      <td>115</td>\n",
       "      <td>7860</td>\n",
       "      <td>False</td>\n",
       "      <td>3</td>\n",
       "      <td>0</td>\n",
       "      <td>1</td>\n",
       "      <td>19000.0</td>\n",
       "      <td>False</td>\n",
       "    </tr>\n",
       "    <tr>\n",
       "      <th>4</th>\n",
       "      <td>4</td>\n",
       "      <td>137965</td>\n",
       "      <td>115</td>\n",
       "      <td>7922</td>\n",
       "      <td>False</td>\n",
       "      <td>4</td>\n",
       "      <td>1</td>\n",
       "      <td>1</td>\n",
       "      <td>11000.0</td>\n",
       "      <td>False</td>\n",
       "    </tr>\n",
       "  </tbody>\n",
       "</table>\n",
       "</div>"
      ],
      "text/plain": [
       "   row_id  timestamp  user_id  content_id  content_type_id  task_container_id  \\\n",
       "0       0          0      115        5692            False                  1   \n",
       "1       1      56943      115        5716            False                  2   \n",
       "2       2     118363      115         128            False                  0   \n",
       "3       3     131167      115        7860            False                  3   \n",
       "4       4     137965      115        7922            False                  4   \n",
       "\n",
       "   user_answer  answered_correctly  prior_question_elapsed_time  \\\n",
       "0            3                   1                          NaN   \n",
       "1            2                   1                      37000.0   \n",
       "2            0                   1                      55000.0   \n",
       "3            0                   1                      19000.0   \n",
       "4            1                   1                      11000.0   \n",
       "\n",
       "   prior_question_had_explanation  \n",
       "0                            <NA>  \n",
       "1                           False  \n",
       "2                           False  \n",
       "3                           False  \n",
       "4                           False  "
      ]
     },
     "execution_count": 17,
     "metadata": {},
     "output_type": "execute_result"
    }
   ],
   "source": [
    "train_df.head()"
   ]
  },
  {
   "cell_type": "code",
   "execution_count": 18,
   "id": "ab7543e3-bd32-434d-b422-49981b267d90",
   "metadata": {},
   "outputs": [
    {
     "data": {
      "text/plain": [
       "(101230332, 10)"
      ]
     },
     "execution_count": 18,
     "metadata": {},
     "output_type": "execute_result"
    }
   ],
   "source": [
    "train_df.shape"
   ]
  },
  {
   "cell_type": "code",
   "execution_count": null,
   "id": "e14cdf31-e3b5-4cee-9055-9dd4b3d20ffc",
   "metadata": {},
   "outputs": [],
   "source": []
  },
  {
   "cell_type": "markdown",
   "id": "cbe7d7ca-464c-4e76-a9f1-468ae06e561d",
   "metadata": {},
   "source": [
    "### Поиск дубликатов"
   ]
  },
  {
   "cell_type": "code",
   "execution_count": 19,
   "id": "4b70def8-4561-47dc-902d-f9a7db94e92b",
   "metadata": {},
   "outputs": [
    {
     "data": {
      "text/plain": [
       "0"
      ]
     },
     "execution_count": 19,
     "metadata": {},
     "output_type": "execute_result"
    }
   ],
   "source": [
    "len(train_df) - len(train_df.drop_duplicates())"
   ]
  },
  {
   "cell_type": "markdown",
   "id": "71cad8e7-5514-4bc2-b1a3-bcff966991c0",
   "metadata": {},
   "source": [
    "Вывод:\n",
    "- Дубликатов нет"
   ]
  },
  {
   "cell_type": "code",
   "execution_count": null,
   "id": "7836c2bb-3f2c-42bd-be98-97c19e9d94f0",
   "metadata": {},
   "outputs": [],
   "source": []
  },
  {
   "cell_type": "markdown",
   "id": "917eae15-569b-48b7-8be9-74999fa89ca3",
   "metadata": {},
   "source": [
    "### Анализ пропусков в данных"
   ]
  },
  {
   "cell_type": "code",
   "execution_count": 23,
   "id": "27eec46f-c1f4-48d5-99f5-5f8e0cf53c58",
   "metadata": {},
   "outputs": [
    {
     "data": {
      "text/plain": [
       "row_id                            101230332\n",
       "timestamp                         101230332\n",
       "user_id                           101230332\n",
       "content_id                        101230332\n",
       "content_type_id                   101230332\n",
       "task_container_id                 101230332\n",
       "user_answer                       101230332\n",
       "answered_correctly                101230332\n",
       "prior_question_elapsed_time        98878794\n",
       "prior_question_had_explanation    100837826\n",
       "dtype: int64"
      ]
     },
     "execution_count": 23,
     "metadata": {},
     "output_type": "execute_result"
    }
   ],
   "source": [
    "train_df.count()"
   ]
  },
  {
   "cell_type": "markdown",
   "id": "acfbea2e-06c2-4a0b-b205-b92df54c038c",
   "metadata": {},
   "source": [
    "Вывод:\n",
    " - NULL содержат только колонки prior_question_elapsed_time и prior_question_had_explanation, как и было написано в их описании\n",
    " - prior_question_elapsed_time - Имеет значение null для первого пакета вопросов или лекции пользователя.\n",
    " - prior_question_had_explanation - Значение является общим для одного пакета вопросов и равно NULL для первого пакета вопросов или лекции пользователя."
   ]
  },
  {
   "cell_type": "code",
   "execution_count": null,
   "id": "63b27da6-4f88-4b4c-ba7f-6f8504e2a23e",
   "metadata": {},
   "outputs": [],
   "source": []
  },
  {
   "cell_type": "markdown",
   "id": "7c1c6694-1e92-4b4e-b371-9af0377834dd",
   "metadata": {},
   "source": [
    "### Анализ целевой переменной"
   ]
  },
  {
   "cell_type": "markdown",
   "id": "f0ae1a81-4efd-4d4c-b3fb-6d1d53d5982c",
   "metadata": {},
   "source": [
    "Так как задача заключается в анализе как можно большего количества характеристик, влияющих на успеваемость студентов,\n",
    "то целевым параметром является answered_correctly - правильность ответа студента на вопрос"
   ]
  },
  {
   "cell_type": "code",
   "execution_count": 26,
   "id": "0c8ca914-eff9-4001-9d32-cd2882d5c91f",
   "metadata": {},
   "outputs": [
    {
     "data": {
      "text/plain": [
       "answered_correctly\n",
       " 1    0.644517\n",
       " 0    0.336131\n",
       "-1    0.019352\n",
       "Name: proportion, dtype: float64"
      ]
     },
     "execution_count": 26,
     "metadata": {},
     "output_type": "execute_result"
    }
   ],
   "source": [
    "train_df[\"answered_correctly\"].value_counts(normalize=True)"
   ]
  },
  {
   "cell_type": "markdown",
   "id": "7f9d3eb1-93a2-426b-9d80-31b35f742866",
   "metadata": {},
   "source": [
    "Значение -1 не относится к прохождению тестов, его нужно исключить"
   ]
  },
  {
   "cell_type": "code",
   "execution_count": 32,
   "id": "b9ed4406-0c05-459b-afa1-8990acc9d1eb",
   "metadata": {},
   "outputs": [],
   "source": [
    "answered_question_mask = (train_df[\"answered_correctly\"] != -1)"
   ]
  },
  {
   "cell_type": "code",
   "execution_count": 33,
   "id": "3c7351c1-6876-4e18-acc3-93be3da40bf6",
   "metadata": {},
   "outputs": [
    {
     "data": {
      "text/plain": [
       "answered_correctly\n",
       "1    0.657236\n",
       "0    0.342764\n",
       "Name: proportion, dtype: float64"
      ]
     },
     "execution_count": 33,
     "metadata": {},
     "output_type": "execute_result"
    }
   ],
   "source": [
    "train_df[\"answered_correctly\"].loc[answered_question_mask].value_counts(normalize=True)"
   ]
  },
  {
   "cell_type": "code",
   "execution_count": 36,
   "id": "7434c136-60e9-4896-9e90-0c3dd827a8f2",
   "metadata": {},
   "outputs": [
    {
     "data": {
      "text/plain": [
       "answered_correctly\n",
       "1    65244627\n",
       "0    34026673\n",
       "Name: count, dtype: int64"
      ]
     },
     "execution_count": 36,
     "metadata": {},
     "output_type": "execute_result"
    }
   ],
   "source": [
    "answered_questions = train_df[\"answered_correctly\"].loc[answered_question_mask].value_counts()\n",
    "answered_questions"
   ]
  },
  {
   "cell_type": "code",
   "execution_count": 44,
   "id": "55cdc4f2-b5ca-4f17-843b-ba5063920ba0",
   "metadata": {},
   "outputs": [
    {
     "data": {
      "image/png": "[encoded data removed]",
      "text/plain": [
       "<Figure size 500x500 with 1 Axes>"
      ]
     },
     "metadata": {},
     "output_type": "display_data"
    }
   ],
   "source": [
    "answered_questions = train_df[\"answered_correctly\"].loc[answered_question_mask].value_counts()\n",
    "# sns.countplot( x='answered_correctly', data=answered_questions)\n",
    "plt.figure(figsize=(5, 5))\n",
    "sns.barplot(x=answered_questions.index.astype('int'), y=answered_questions.values, order=answered_questions.index.astype('int'))\n",
    "plt.title('Соотношение правильных и неправильных ответов на вопросы')\n",
    "plt.xlabel('1 - правильный, 0 - неправильный')\n",
    "plt.ylabel('количество');"
   ]
  },
  {
   "cell_type": "markdown",
   "id": "4f8103d2-19d9-49a0-9f4e-ad966cc790e2",
   "metadata": {},
   "source": [
    "Выводы:\n",
    " - около 33% ответов были даны неправильно"
   ]
  },
  {
   "cell_type": "code",
   "execution_count": null,
   "id": "a152096e-75c6-45d9-aed0-905f44d5b288",
   "metadata": {},
   "outputs": [],
   "source": []
  },
  {
   "cell_type": "code",
   "execution_count": null,
   "id": "0b7fae41-3012-4dd5-b7ca-1dbae0b5e456",
   "metadata": {},
   "outputs": [],
   "source": []
  },
  {
   "cell_type": "markdown",
   "id": "9b19d11f-6aaf-455f-a0a1-09ce0af76597",
   "metadata": {},
   "source": [
    "### Анализ переменной user_answer"
   ]
  },
  {
   "cell_type": "code",
   "execution_count": 47,
   "id": "81374242-c00c-4ef4-abc9-089297523f47",
   "metadata": {},
   "outputs": [
    {
     "data": {
      "text/plain": [
       "user_answer\n",
       " 0    28186489\n",
       " 1    26990007\n",
       " 3    26084784\n",
       " 2    18010020\n",
       "-1     1959032\n",
       "Name: count, dtype: int64"
      ]
     },
     "execution_count": 47,
     "metadata": {},
     "output_type": "execute_result"
    }
   ],
   "source": [
    "train_df[\"user_answer\"].value_counts()"
   ]
  },
  {
   "cell_type": "code",
   "execution_count": null,
   "id": "12af8efb-8ce8-4abf-9249-ab668399e664",
   "metadata": {},
   "outputs": [],
   "source": [
    "Читать -1 как NULL, для лекций."
   ]
  },
  {
   "cell_type": "code",
   "execution_count": 48,
   "id": "40ffb4f0-16bd-4b0a-baf4-5f20c6328dfa",
   "metadata": {},
   "outputs": [
    {
     "data": {
      "text/plain": [
       "<Axes: xlabel='user_answer', ylabel='count'>"
      ]
     },
     "execution_count": 48,
     "metadata": {},
     "output_type": "execute_result"
    },
    {
     "data": {
      "image/png": "[encoded data removed]",
      "text/plain": [
       "<Figure size 640x480 with 1 Axes>"
      ]
     },
     "metadata": {},
     "output_type": "display_data"
    }
   ],
   "source": [
    "sns.countplot(x='user_answer', hue='answered_correctly',data=train_df)"
   ]
  },
  {
   "cell_type": "code",
   "execution_count": 53,
   "id": "0bc94e61-8247-4ed1-afa6-737ae7845305",
   "metadata": {},
   "outputs": [
    {
     "data": {
      "text/html": [
       "<div>\n",
       "<style scoped>\n",
       "    .dataframe tbody tr th:only-of-type {\n",
       "        vertical-align: middle;\n",
       "    }\n",
       "\n",
       "    .dataframe tbody tr th {\n",
       "        vertical-align: top;\n",
       "    }\n",
       "\n",
       "    .dataframe thead th {\n",
       "        text-align: right;\n",
       "    }\n",
       "</style>\n",
       "<table border=\"1\" class=\"dataframe\">\n",
       "  <thead>\n",
       "    <tr style=\"text-align: right;\">\n",
       "      <th></th>\n",
       "      <th>user_answer</th>\n",
       "      <th>answered_correctly</th>\n",
       "    </tr>\n",
       "  </thead>\n",
       "  <tbody>\n",
       "    <tr>\n",
       "      <th>user_answer</th>\n",
       "      <td>1.000000</td>\n",
       "      <td>0.004881</td>\n",
       "    </tr>\n",
       "    <tr>\n",
       "      <th>answered_correctly</th>\n",
       "      <td>0.004881</td>\n",
       "      <td>1.000000</td>\n",
       "    </tr>\n",
       "  </tbody>\n",
       "</table>\n",
       "</div>"
      ],
      "text/plain": [
       "                    user_answer  answered_correctly\n",
       "user_answer            1.000000            0.004881\n",
       "answered_correctly     0.004881            1.000000"
      ]
     },
     "execution_count": 53,
     "metadata": {},
     "output_type": "execute_result"
    }
   ],
   "source": [
    "answered_question_mask = (train_df[\"answered_correctly\"] != -1)\n",
    "user_answer_mask = (train_df[\"user_answer\"] != -1)\n",
    "train_df[['user_answer', 'answered_correctly']].loc[answered_question_mask & user_answer_mask].corr()"
   ]
  },
  {
   "cell_type": "code",
   "execution_count": 54,
   "id": "f838e1db-fef2-4c67-975f-c47c05e20bb4",
   "metadata": {},
   "outputs": [
    {
     "data": {
      "image/png": "[encoded data removed]",
      "text/plain": [
       "<Figure size 480x480 with 1 Axes>"
      ]
     },
     "metadata": {},
     "output_type": "display_data"
    }
   ],
   "source": [
    "answered_question_mask = (train_df[\"answered_correctly\"] != -1)\n",
    "user_answer_mask = (train_df[\"user_answer\"] != -1)\n",
    "plt.matshow(train_df[['user_answer', 'answered_correctly']].loc[answered_question_mask & user_answer_mask].corr())\n",
    "plt.title('Матрица корреляции между ответами и результатом')\n",
    "plt.show()"
   ]
  },
  {
   "cell_type": "markdown",
   "id": "e8908579-d9f5-4bbb-90a8-0ada4d39f147",
   "metadata": {},
   "source": [
    "Вывод:\n",
    "- Колонка user_answer, скорее всего, отвечает на вопрос - какой из представленных вариантов ответов выбрал студет. \n",
    "- Похоже, что вопросы имеют множественный выбор - ответы 0-3.\n",
    "- Значение -1 означает отсутствие ответа при просмотре лекции, должно быть исключено.\n",
    "- Гораздо больше контента, связанного с вопросами, чем с лекциями"
   ]
  },
  {
   "cell_type": "code",
   "execution_count": null,
   "id": "9cab9ca2-7cc0-449b-9c6a-772b34fdad20",
   "metadata": {},
   "outputs": [],
   "source": []
  },
  {
   "cell_type": "markdown",
   "id": "cf8bdf45-4108-494f-bac7-a7179cd4ecde",
   "metadata": {},
   "source": [
    "### Анализ переменной content_type_id"
   ]
  },
  {
   "cell_type": "markdown",
   "id": "2dd6a55b-08b4-4389-8949-c45deb42f658",
   "metadata": {},
   "source": [
    "Нужно привести тип данных к int"
   ]
  },
  {
   "cell_type": "code",
   "execution_count": 7,
   "id": "f6b138ab-eb37-46bb-848e-7c6d8536e969",
   "metadata": {},
   "outputs": [],
   "source": [
    "train_df[\"content_type_id\"] = train_df[\"content_type_id\"].astype(\"int\")"
   ]
  },
  {
   "cell_type": "code",
   "execution_count": 8,
   "id": "ba5187e6-4e19-4001-98d3-bf55fe58df7d",
   "metadata": {},
   "outputs": [
    {
     "data": {
      "text/plain": [
       "<Axes: xlabel='content_type_id', ylabel='count'>"
      ]
     },
     "execution_count": 8,
     "metadata": {},
     "output_type": "execute_result"
    },
    {
     "data": {
      "image/png": "[encoded data removed]",
      "text/plain": [
       "<Figure size 640x480 with 1 Axes>"
      ]
     },
     "metadata": {},
     "output_type": "display_data"
    }
   ],
   "source": [
    "sns.countplot(x='content_type_id', hue='answered_correctly', data=train_df)"
   ]
  },
  {
   "cell_type": "markdown",
   "id": "aaae1e9b-9c90-4757-8da6-47d1b22e2cfd",
   "metadata": {},
   "source": [
    "Выводы:\n",
    "- content_type_id = 0, для вопроса, 1 для лекции\n",
    "- обозначает тип образовательного контента, не влияет на целевую переменную"
   ]
  },
  {
   "cell_type": "code",
   "execution_count": null,
   "id": "b1b9fe92-966e-4e9a-b670-b2825386ad9c",
   "metadata": {},
   "outputs": [],
   "source": []
  },
  {
   "cell_type": "code",
   "execution_count": null,
   "id": "a598e21f-be29-4875-a395-783a3d974159",
   "metadata": {},
   "outputs": [],
   "source": []
  },
  {
   "cell_type": "markdown",
   "id": "f89ece10-414a-497e-9e2e-f3b83f4f55fa",
   "metadata": {},
   "source": [
    "### Анализ переменной timestamp"
   ]
  },
  {
   "cell_type": "code",
   "execution_count": 16,
   "id": "10894752-5f5e-4824-b7e6-d2f4f6d7de64",
   "metadata": {},
   "outputs": [],
   "source": [
    "ms_per_year = 31_556_952_000\n",
    "ms_per_month = ms_per_year/12"
   ]
  },
  {
   "cell_type": "code",
   "execution_count": 18,
   "id": "23146bfc-7cb3-46dd-9fa1-6c67313e69d7",
   "metadata": {},
   "outputs": [
    {
     "data": {
      "image/png": "[encoded data removed]",
      "text/plain": [
       "<Figure size 640x480 with 1 Axes>"
      ]
     },
     "metadata": {},
     "output_type": "display_data"
    }
   ],
   "source": [
    "ts = train_df['timestamp']/ms_per_month\n",
    "ts.plot.hist(bins=100)\n",
    "plt.title(\"История событий пользователей\")\n",
    "plt.xticks(rotation=0)\n",
    "plt.xlabel(\"Месяцы, от первого действия пользователя\")\n",
    "plt.ylabel(\"События\")\n",
    "plt.show()"
   ]
  },
  {
   "cell_type": "code",
   "execution_count": null,
   "id": "5da2256c-266a-4290-a41c-78fc65f295ac",
   "metadata": {},
   "outputs": [],
   "source": []
  },
  {
   "cell_type": "markdown",
   "id": "c0ceadbb-20b0-4c97-b20a-bc059444ccd2",
   "metadata": {},
   "source": [
    "Проверка связи между 'timestamp' и успеваимостью 'answered_correctly',"
   ]
  },
  {
   "cell_type": "code",
   "execution_count": 38,
   "id": "9833c2de-e512-4d06-9019-80a65f48748f",
   "metadata": {},
   "outputs": [
    {
     "name": "stdout",
     "output_type": "stream",
     "text": [
      "CPU times: total: 21.5 s\n",
      "Wall time: 26.5 s\n"
     ]
    }
   ],
   "source": [
    "%%time\n",
    "\n",
    "bin_labels = ['1', '2', '3', '4', '5', '6', '7', '8', '9', '10']\n",
    "train_df['ts_bin'] = pd.qcut(train_df['timestamp'], q=10, labels=bin_labels)\n",
    "answered_question_mask = (train_df[\"answered_correctly\"] != -1)\n",
    "answered_question_ts_df = (\n",
    "    train_df.loc[answered_question_mask]\n",
    "    .groupby([\"ts_bin\", 'answered_correctly'], as_index=False)\n",
    "    .size()\n",
    ")\n",
    "answered_question_ts_df = answered_question_ts_df.pivot(index=\"ts_bin\", columns='answered_correctly', values='size')\n",
    "answered_question_ts_df['correct_answers'] = answered_question_ts_df.iloc[:, 1] / (answered_question_ts_df.iloc[:, 0] + answered_question_ts_df.iloc[:, 1])\n",
    "answered_question_ts_df = answered_question_ts_df.sort_values(by=\"correct_answers\", ascending = False)"
   ]
  },
  {
   "cell_type": "code",
   "execution_count": 39,
   "id": "4bd4b7c8-2c25-4b62-87b4-b47640fdf5d5",
   "metadata": {},
   "outputs": [
    {
     "data": {
      "text/html": [
       "<div>\n",
       "<style scoped>\n",
       "    .dataframe tbody tr th:only-of-type {\n",
       "        vertical-align: middle;\n",
       "    }\n",
       "\n",
       "    .dataframe tbody tr th {\n",
       "        vertical-align: top;\n",
       "    }\n",
       "\n",
       "    .dataframe thead th {\n",
       "        text-align: right;\n",
       "    }\n",
       "</style>\n",
       "<table border=\"1\" class=\"dataframe\">\n",
       "  <thead>\n",
       "    <tr style=\"text-align: right;\">\n",
       "      <th>answered_correctly</th>\n",
       "      <th>0</th>\n",
       "      <th>1</th>\n",
       "      <th>correct_answers</th>\n",
       "    </tr>\n",
       "    <tr>\n",
       "      <th>ts_bin</th>\n",
       "      <th></th>\n",
       "      <th></th>\n",
       "      <th></th>\n",
       "    </tr>\n",
       "  </thead>\n",
       "  <tbody>\n",
       "    <tr>\n",
       "      <th>9</th>\n",
       "      <td>3176412</td>\n",
       "      <td>6753723</td>\n",
       "      <td>0.680124</td>\n",
       "    </tr>\n",
       "    <tr>\n",
       "      <th>10</th>\n",
       "      <td>3192168</td>\n",
       "      <td>6742420</td>\n",
       "      <td>0.678681</td>\n",
       "    </tr>\n",
       "    <tr>\n",
       "      <th>6</th>\n",
       "      <td>3188573</td>\n",
       "      <td>6708007</td>\n",
       "      <td>0.677811</td>\n",
       "    </tr>\n",
       "    <tr>\n",
       "      <th>7</th>\n",
       "      <td>3195985</td>\n",
       "      <td>6713079</td>\n",
       "      <td>0.677469</td>\n",
       "    </tr>\n",
       "    <tr>\n",
       "      <th>8</th>\n",
       "      <td>3208426</td>\n",
       "      <td>6712255</td>\n",
       "      <td>0.676592</td>\n",
       "    </tr>\n",
       "  </tbody>\n",
       "</table>\n",
       "</div>"
      ],
      "text/plain": [
       "answered_correctly        0        1  correct_answers\n",
       "ts_bin                                               \n",
       "9                   3176412  6753723         0.680124\n",
       "10                  3192168  6742420         0.678681\n",
       "6                   3188573  6708007         0.677811\n",
       "7                   3195985  6713079         0.677469\n",
       "8                   3208426  6712255         0.676592"
      ]
     },
     "execution_count": 39,
     "metadata": {},
     "output_type": "execute_result"
    }
   ],
   "source": [
    "answered_question_ts_df.head()"
   ]
  },
  {
   "cell_type": "code",
   "execution_count": 40,
   "id": "579376b0-ffff-4bc9-b360-8ca991d6b994",
   "metadata": {},
   "outputs": [],
   "source": [
    "answered_question_ts_df[\"correct_answers\"] = answered_question_ts_df[\"correct_answers\"].round(2)"
   ]
  },
  {
   "cell_type": "code",
   "execution_count": 41,
   "id": "89675835-d7a2-4e73-bd4b-92ab8afb12fe",
   "metadata": {},
   "outputs": [
    {
     "data": {
      "text/html": [
       "<div>\n",
       "<style scoped>\n",
       "    .dataframe tbody tr th:only-of-type {\n",
       "        vertical-align: middle;\n",
       "    }\n",
       "\n",
       "    .dataframe tbody tr th {\n",
       "        vertical-align: top;\n",
       "    }\n",
       "\n",
       "    .dataframe thead th {\n",
       "        text-align: right;\n",
       "    }\n",
       "</style>\n",
       "<table border=\"1\" class=\"dataframe\">\n",
       "  <thead>\n",
       "    <tr style=\"text-align: right;\">\n",
       "      <th>answered_correctly</th>\n",
       "      <th>0</th>\n",
       "      <th>1</th>\n",
       "      <th>correct_answers</th>\n",
       "    </tr>\n",
       "    <tr>\n",
       "      <th>ts_bin</th>\n",
       "      <th></th>\n",
       "      <th></th>\n",
       "      <th></th>\n",
       "    </tr>\n",
       "  </thead>\n",
       "  <tbody>\n",
       "    <tr>\n",
       "      <th>9</th>\n",
       "      <td>3176412</td>\n",
       "      <td>6753723</td>\n",
       "      <td>0.68</td>\n",
       "    </tr>\n",
       "    <tr>\n",
       "      <th>10</th>\n",
       "      <td>3192168</td>\n",
       "      <td>6742420</td>\n",
       "      <td>0.68</td>\n",
       "    </tr>\n",
       "    <tr>\n",
       "      <th>6</th>\n",
       "      <td>3188573</td>\n",
       "      <td>6708007</td>\n",
       "      <td>0.68</td>\n",
       "    </tr>\n",
       "    <tr>\n",
       "      <th>7</th>\n",
       "      <td>3195985</td>\n",
       "      <td>6713079</td>\n",
       "      <td>0.68</td>\n",
       "    </tr>\n",
       "    <tr>\n",
       "      <th>8</th>\n",
       "      <td>3208426</td>\n",
       "      <td>6712255</td>\n",
       "      <td>0.68</td>\n",
       "    </tr>\n",
       "  </tbody>\n",
       "</table>\n",
       "</div>"
      ],
      "text/plain": [
       "answered_correctly        0        1  correct_answers\n",
       "ts_bin                                               \n",
       "9                   3176412  6753723             0.68\n",
       "10                  3192168  6742420             0.68\n",
       "6                   3188573  6708007             0.68\n",
       "7                   3195985  6713079             0.68\n",
       "8                   3208426  6712255             0.68"
      ]
     },
     "execution_count": 41,
     "metadata": {},
     "output_type": "execute_result"
    }
   ],
   "source": [
    "answered_question_ts_df.head()"
   ]
  },
  {
   "cell_type": "code",
   "execution_count": 43,
   "id": "ec68c1cf-69e1-4997-ba4c-d3c4e4086e81",
   "metadata": {},
   "outputs": [
    {
     "data": {
      "image/png": "[encoded data removed]",
      "text/plain": [
       "<Figure size 1200x600 with 1 Axes>"
      ]
     },
     "metadata": {},
     "output_type": "display_data"
    }
   ],
   "source": [
    "bins_correct_answers = answered_question_ts_df.iloc[:, 2].sort_index()\n",
    "\n",
    "fig = plt.figure(figsize=(12,6))\n",
    "plt.bar(bins_correct_answers.index, bins_correct_answers.values)\n",
    "for i, v in zip(bins_correct_answers.index, bins_correct_answers.values):\n",
    "    plt.text(i, v, v, color='white', fontweight='bold', fontsize=14, va='top', ha='center')\n",
    "plt.title(\"Процент корректных ответов\")\n",
    "plt.xticks(rotation=0)\n",
    "plt.show()"
   ]
  },
  {
   "cell_type": "markdown",
   "id": "0f75705c-74cd-4107-9b33-6a3f0608ded6",
   "metadata": {},
   "source": [
    "Выводы:\n",
    "- timestamp - это время между этим взаимодействием пользователя и завершением первого события от этого пользователя, т.е от старта регистрации на платформе обучения.\n",
    "- Большинство взаимодействий происходит от пользователей, которые еще не были активны на платформе очень долго.\n",
    "- Успеваимость студетов, которые только зарегистрировались ниже, чем студентов, учащихся на платформе уже некоторое время.\n",
    "- Хорошей дополнительной переменной может стать \"количество месяцев, прошедших с момента ррегистрации\"."
   ]
  },
  {
   "cell_type": "code",
   "execution_count": null,
   "id": "dd7b9a79-9d56-41e9-97dc-fec9b8936426",
   "metadata": {},
   "outputs": [],
   "source": []
  },
  {
   "cell_type": "markdown",
   "id": "afd46889-b10b-4315-9809-c7e94ea06101",
   "metadata": {},
   "source": [
    "### Анализ переменной prior_question_had_explanation"
   ]
  },
  {
   "cell_type": "markdown",
   "id": "c4afb83c-b352-4cac-ba89-2e5ff036c156",
   "metadata": {},
   "source": [
    "Заполню пропуски в 'prior_question_had_explanation' = False, так как это соответствует тому что студент не видел ответ предыдущего вопроса или смотрел лекцию - прерывал сессию ответов на вопросы"
   ]
  },
  {
   "cell_type": "code",
   "execution_count": 51,
   "id": "54b15f5b-c1f0-4bbe-b2f6-b5c80becb939",
   "metadata": {},
   "outputs": [],
   "source": [
    "train_df['prior_question_had_explanation'] = train_df['prior_question_had_explanation'].fillna(value=False).astype(bool)"
   ]
  },
  {
   "cell_type": "code",
   "execution_count": 52,
   "id": "7eb0e732-f8c1-4a85-a4c1-80d93cc30a0a",
   "metadata": {},
   "outputs": [
    {
     "data": {
      "text/html": [
       "<div>\n",
       "<style scoped>\n",
       "    .dataframe tbody tr th:only-of-type {\n",
       "        vertical-align: middle;\n",
       "    }\n",
       "\n",
       "    .dataframe tbody tr th {\n",
       "        vertical-align: top;\n",
       "    }\n",
       "\n",
       "    .dataframe thead tr th {\n",
       "        text-align: left;\n",
       "    }\n",
       "\n",
       "    .dataframe thead tr:last-of-type th {\n",
       "        text-align: right;\n",
       "    }\n",
       "</style>\n",
       "<table border=\"1\" class=\"dataframe\">\n",
       "  <thead>\n",
       "    <tr>\n",
       "      <th></th>\n",
       "      <th colspan=\"2\" halign=\"left\">answered_correctly</th>\n",
       "    </tr>\n",
       "    <tr>\n",
       "      <th></th>\n",
       "      <th>mean</th>\n",
       "      <th>count</th>\n",
       "    </tr>\n",
       "    <tr>\n",
       "      <th>prior_question_had_explanation</th>\n",
       "      <th></th>\n",
       "      <th></th>\n",
       "    </tr>\n",
       "  </thead>\n",
       "  <tbody>\n",
       "    <tr>\n",
       "      <th>False</th>\n",
       "      <td>0.507977</td>\n",
       "      <td>9585740</td>\n",
       "    </tr>\n",
       "    <tr>\n",
       "      <th>True</th>\n",
       "      <td>0.673189</td>\n",
       "      <td>89685560</td>\n",
       "    </tr>\n",
       "  </tbody>\n",
       "</table>\n",
       "</div>"
      ],
      "text/plain": [
       "                               answered_correctly          \n",
       "                                             mean     count\n",
       "prior_question_had_explanation                             \n",
       "False                                    0.507977   9585740\n",
       "True                                     0.673189  89685560"
      ]
     },
     "execution_count": 52,
     "metadata": {},
     "output_type": "execute_result"
    }
   ],
   "source": [
    "answered_question_mask = (train_df[\"answered_correctly\"] != -1)\n",
    "\n",
    "prior_question_df = (\n",
    "    train_df.loc[answered_question_mask]\n",
    "    .groupby(['prior_question_had_explanation'], dropna=False)\n",
    "    .agg({'answered_correctly': ['mean', 'count']})\n",
    ")\n",
    "prior_question_df.head()"
   ]
  },
  {
   "cell_type": "code",
   "execution_count": 53,
   "id": "8e157ff2-816a-422a-970b-9ed763c665cd",
   "metadata": {},
   "outputs": [
    {
     "data": {
      "text/plain": [
       "prior_question_had_explanation\n",
       "False    0.507977\n",
       "True     0.673189\n",
       "Name: (answered_correctly, mean), dtype: float64"
      ]
     },
     "execution_count": 53,
     "metadata": {},
     "output_type": "execute_result"
    }
   ],
   "source": [
    "prior_question = prior_question_df.iloc[:, 0]\n",
    "prior_question"
   ]
  },
  {
   "cell_type": "code",
   "execution_count": 59,
   "id": "cb86d58e-07ba-40e1-8ec3-e07a19015785",
   "metadata": {},
   "outputs": [
    {
     "data": {
      "image/png": "[encoded data removed]",
      "text/plain": [
       "<Figure size 640x480 with 1 Axes>"
      ]
     },
     "metadata": {},
     "output_type": "display_data"
    }
   ],
   "source": [
    "prior_question.plot.barh()\n",
    "plt.title(\"Процент правильных ответов в зависимости от того видел ли студент предыдущий ответ\")\n",
    "plt.xlabel(\"Процент правильных ответов\")\n",
    "plt.ylabel(None)\n",
    "plt.show()"
   ]
  },
  {
   "cell_type": "markdown",
   "id": "98a2df34-3400-46f6-b2a8-4e90c3526336",
   "metadata": {},
   "source": [
    "Выводы:\n",
    "- prior_question_had_explanation - Увидел ли пользователь объяснение и правильный ответ(ы) после ответа на предыдущий пакет вопросов, игнорируя любые лекции между ними.\n",
    "- prior_question_had_explanation - соответствует непрерывной сессии ответов на вопросы\n",
    "- Когда студент работает непрерывно - у него выше результаты"
   ]
  },
  {
   "cell_type": "code",
   "execution_count": null,
   "id": "b2a453fd-5711-415e-ba51-baa4a6c874f2",
   "metadata": {},
   "outputs": [],
   "source": []
  },
  {
   "cell_type": "code",
   "execution_count": null,
   "id": "ae46d29e-6ed0-4385-a5a2-22c10264a0a4",
   "metadata": {},
   "outputs": [],
   "source": []
  },
  {
   "cell_type": "code",
   "execution_count": null,
   "id": "ec4d71c4-414f-4cbb-878b-84d57285f427",
   "metadata": {},
   "outputs": [],
   "source": []
  },
  {
   "cell_type": "code",
   "execution_count": null,
   "id": "ccb6aa9a-de86-4b9e-9253-1fed40afbfd6",
   "metadata": {},
   "outputs": [],
   "source": []
  },
  {
   "cell_type": "code",
   "execution_count": null,
   "id": "f995fe4f-00b6-4123-9614-301330462ad0",
   "metadata": {},
   "outputs": [],
   "source": []
  },
  {
   "cell_type": "code",
   "execution_count": null,
   "id": "b0610e9e-322e-4224-a21f-5067a038a286",
   "metadata": {},
   "outputs": [],
   "source": []
  },
  {
   "cell_type": "markdown",
   "id": "b51fe1ed-3d7b-4424-95cf-94bdd89a7c09",
   "metadata": {},
   "source": [
    "## EDA Questions"
   ]
  },
  {
   "cell_type": "code",
   "execution_count": 109,
   "id": "410cabe0-8b86-4303-8601-2aec468d1dd1",
   "metadata": {},
   "outputs": [
    {
     "data": {
      "text/html": [
       "<div>\n",
       "<style scoped>\n",
       "    .dataframe tbody tr th:only-of-type {\n",
       "        vertical-align: middle;\n",
       "    }\n",
       "\n",
       "    .dataframe tbody tr th {\n",
       "        vertical-align: top;\n",
       "    }\n",
       "\n",
       "    .dataframe thead th {\n",
       "        text-align: right;\n",
       "    }\n",
       "</style>\n",
       "<table border=\"1\" class=\"dataframe\">\n",
       "  <thead>\n",
       "    <tr style=\"text-align: right;\">\n",
       "      <th></th>\n",
       "      <th>question_id</th>\n",
       "      <th>bundle_id</th>\n",
       "      <th>correct_answer</th>\n",
       "      <th>part</th>\n",
       "      <th>tags</th>\n",
       "    </tr>\n",
       "  </thead>\n",
       "  <tbody>\n",
       "    <tr>\n",
       "      <th>0</th>\n",
       "      <td>0</td>\n",
       "      <td>0</td>\n",
       "      <td>0</td>\n",
       "      <td>1</td>\n",
       "      <td>51 131 162 38</td>\n",
       "    </tr>\n",
       "    <tr>\n",
       "      <th>1</th>\n",
       "      <td>1</td>\n",
       "      <td>1</td>\n",
       "      <td>1</td>\n",
       "      <td>1</td>\n",
       "      <td>131 36 81</td>\n",
       "    </tr>\n",
       "    <tr>\n",
       "      <th>2</th>\n",
       "      <td>2</td>\n",
       "      <td>2</td>\n",
       "      <td>0</td>\n",
       "      <td>1</td>\n",
       "      <td>131 101 162 92</td>\n",
       "    </tr>\n",
       "    <tr>\n",
       "      <th>3</th>\n",
       "      <td>3</td>\n",
       "      <td>3</td>\n",
       "      <td>0</td>\n",
       "      <td>1</td>\n",
       "      <td>131 149 162 29</td>\n",
       "    </tr>\n",
       "    <tr>\n",
       "      <th>4</th>\n",
       "      <td>4</td>\n",
       "      <td>4</td>\n",
       "      <td>3</td>\n",
       "      <td>1</td>\n",
       "      <td>131 5 162 38</td>\n",
       "    </tr>\n",
       "  </tbody>\n",
       "</table>\n",
       "</div>"
      ],
      "text/plain": [
       "   question_id  bundle_id  correct_answer  part            tags\n",
       "0            0          0               0     1   51 131 162 38\n",
       "1            1          1               1     1       131 36 81\n",
       "2            2          2               0     1  131 101 162 92\n",
       "3            3          3               0     1  131 149 162 29\n",
       "4            4          4               3     1    131 5 162 38"
      ]
     },
     "execution_count": 109,
     "metadata": {},
     "output_type": "execute_result"
    }
   ],
   "source": [
    "questions_df.head()"
   ]
  },
  {
   "cell_type": "code",
   "execution_count": 111,
   "id": "c151159e-7e81-4754-b9b1-4a28d5657a9d",
   "metadata": {},
   "outputs": [
    {
     "data": {
      "text/plain": [
       "(13523, 5)"
      ]
     },
     "execution_count": 111,
     "metadata": {},
     "output_type": "execute_result"
    }
   ],
   "source": [
    "questions_df.shape"
   ]
  },
  {
   "cell_type": "markdown",
   "id": "726dc61c-0644-4ef9-bcb9-5a34d5e0d163",
   "metadata": {},
   "source": [
    "Проверка пропусков"
   ]
  },
  {
   "cell_type": "code",
   "execution_count": 121,
   "id": "3d5e9402-20b5-4faa-937a-73c6f3e1fc8d",
   "metadata": {},
   "outputs": [
    {
     "data": {
      "text/html": [
       "<div>\n",
       "<style scoped>\n",
       "    .dataframe tbody tr th:only-of-type {\n",
       "        vertical-align: middle;\n",
       "    }\n",
       "\n",
       "    .dataframe tbody tr th {\n",
       "        vertical-align: top;\n",
       "    }\n",
       "\n",
       "    .dataframe thead th {\n",
       "        text-align: right;\n",
       "    }\n",
       "</style>\n",
       "<table border=\"1\" class=\"dataframe\">\n",
       "  <thead>\n",
       "    <tr style=\"text-align: right;\">\n",
       "      <th></th>\n",
       "      <th>question_id</th>\n",
       "      <th>bundle_id</th>\n",
       "      <th>correct_answer</th>\n",
       "      <th>part</th>\n",
       "      <th>tags</th>\n",
       "    </tr>\n",
       "  </thead>\n",
       "  <tbody>\n",
       "  </tbody>\n",
       "</table>\n",
       "</div>"
      ],
      "text/plain": [
       "Empty DataFrame\n",
       "Columns: [question_id, bundle_id, correct_answer, part, tags]\n",
       "Index: []"
      ]
     },
     "execution_count": 121,
     "metadata": {},
     "output_type": "execute_result"
    }
   ],
   "source": [
    "questions_df[questions_df[\"correct_answer\"].isna()]"
   ]
  },
  {
   "cell_type": "code",
   "execution_count": 122,
   "id": "461c564c-b32f-4dee-8df0-e8b6550fc156",
   "metadata": {},
   "outputs": [
    {
     "data": {
      "text/html": [
       "<div>\n",
       "<style scoped>\n",
       "    .dataframe tbody tr th:only-of-type {\n",
       "        vertical-align: middle;\n",
       "    }\n",
       "\n",
       "    .dataframe tbody tr th {\n",
       "        vertical-align: top;\n",
       "    }\n",
       "\n",
       "    .dataframe thead th {\n",
       "        text-align: right;\n",
       "    }\n",
       "</style>\n",
       "<table border=\"1\" class=\"dataframe\">\n",
       "  <thead>\n",
       "    <tr style=\"text-align: right;\">\n",
       "      <th></th>\n",
       "      <th>question_id</th>\n",
       "      <th>bundle_id</th>\n",
       "      <th>correct_answer</th>\n",
       "      <th>part</th>\n",
       "      <th>tags</th>\n",
       "    </tr>\n",
       "  </thead>\n",
       "  <tbody>\n",
       "  </tbody>\n",
       "</table>\n",
       "</div>"
      ],
      "text/plain": [
       "Empty DataFrame\n",
       "Columns: [question_id, bundle_id, correct_answer, part, tags]\n",
       "Index: []"
      ]
     },
     "execution_count": 122,
     "metadata": {},
     "output_type": "execute_result"
    }
   ],
   "source": [
    "questions_df[questions_df[\"part\"].isna()]"
   ]
  },
  {
   "cell_type": "code",
   "execution_count": 123,
   "id": "c5230fad-7c03-4cf0-86ca-ce7d2a0cd0d2",
   "metadata": {},
   "outputs": [
    {
     "data": {
      "text/html": [
       "<div>\n",
       "<style scoped>\n",
       "    .dataframe tbody tr th:only-of-type {\n",
       "        vertical-align: middle;\n",
       "    }\n",
       "\n",
       "    .dataframe tbody tr th {\n",
       "        vertical-align: top;\n",
       "    }\n",
       "\n",
       "    .dataframe thead th {\n",
       "        text-align: right;\n",
       "    }\n",
       "</style>\n",
       "<table border=\"1\" class=\"dataframe\">\n",
       "  <thead>\n",
       "    <tr style=\"text-align: right;\">\n",
       "      <th></th>\n",
       "      <th>question_id</th>\n",
       "      <th>bundle_id</th>\n",
       "      <th>correct_answer</th>\n",
       "      <th>part</th>\n",
       "      <th>tags</th>\n",
       "    </tr>\n",
       "  </thead>\n",
       "  <tbody>\n",
       "    <tr>\n",
       "      <th>10033</th>\n",
       "      <td>10033</td>\n",
       "      <td>10033</td>\n",
       "      <td>2</td>\n",
       "      <td>6</td>\n",
       "      <td>NaN</td>\n",
       "    </tr>\n",
       "  </tbody>\n",
       "</table>\n",
       "</div>"
      ],
      "text/plain": [
       "       question_id  bundle_id  correct_answer  part tags\n",
       "10033        10033      10033               2     6  NaN"
      ]
     },
     "execution_count": 123,
     "metadata": {},
     "output_type": "execute_result"
    }
   ],
   "source": [
    "questions_df[questions_df[\"tags\"].isna()]"
   ]
  },
  {
   "cell_type": "code",
   "execution_count": 124,
   "id": "427cde3b-9a46-4124-ba73-906b20568336",
   "metadata": {},
   "outputs": [],
   "source": [
    "questions_df[\"tags\"] = questions_df[\"tags\"].fillna(0)"
   ]
  },
  {
   "cell_type": "code",
   "execution_count": 125,
   "id": "ccceb598-2449-44d3-9305-19a7764b0dde",
   "metadata": {},
   "outputs": [
    {
     "data": {
      "text/html": [
       "<div>\n",
       "<style scoped>\n",
       "    .dataframe tbody tr th:only-of-type {\n",
       "        vertical-align: middle;\n",
       "    }\n",
       "\n",
       "    .dataframe tbody tr th {\n",
       "        vertical-align: top;\n",
       "    }\n",
       "\n",
       "    .dataframe thead th {\n",
       "        text-align: right;\n",
       "    }\n",
       "</style>\n",
       "<table border=\"1\" class=\"dataframe\">\n",
       "  <thead>\n",
       "    <tr style=\"text-align: right;\">\n",
       "      <th></th>\n",
       "      <th>question_id</th>\n",
       "      <th>bundle_id</th>\n",
       "      <th>correct_answer</th>\n",
       "      <th>part</th>\n",
       "      <th>tags</th>\n",
       "    </tr>\n",
       "  </thead>\n",
       "  <tbody>\n",
       "    <tr>\n",
       "      <th>0</th>\n",
       "      <td>0</td>\n",
       "      <td>0</td>\n",
       "      <td>0</td>\n",
       "      <td>1</td>\n",
       "      <td>51 131 162 38</td>\n",
       "    </tr>\n",
       "    <tr>\n",
       "      <th>1</th>\n",
       "      <td>1</td>\n",
       "      <td>1</td>\n",
       "      <td>1</td>\n",
       "      <td>1</td>\n",
       "      <td>131 36 81</td>\n",
       "    </tr>\n",
       "    <tr>\n",
       "      <th>2</th>\n",
       "      <td>2</td>\n",
       "      <td>2</td>\n",
       "      <td>0</td>\n",
       "      <td>1</td>\n",
       "      <td>131 101 162 92</td>\n",
       "    </tr>\n",
       "    <tr>\n",
       "      <th>3</th>\n",
       "      <td>3</td>\n",
       "      <td>3</td>\n",
       "      <td>0</td>\n",
       "      <td>1</td>\n",
       "      <td>131 149 162 29</td>\n",
       "    </tr>\n",
       "    <tr>\n",
       "      <th>4</th>\n",
       "      <td>4</td>\n",
       "      <td>4</td>\n",
       "      <td>3</td>\n",
       "      <td>1</td>\n",
       "      <td>131 5 162 38</td>\n",
       "    </tr>\n",
       "  </tbody>\n",
       "</table>\n",
       "</div>"
      ],
      "text/plain": [
       "   question_id  bundle_id  correct_answer  part            tags\n",
       "0            0          0               0     1   51 131 162 38\n",
       "1            1          1               1     1       131 36 81\n",
       "2            2          2               0     1  131 101 162 92\n",
       "3            3          3               0     1  131 149 162 29\n",
       "4            4          4               3     1    131 5 162 38"
      ]
     },
     "execution_count": 125,
     "metadata": {},
     "output_type": "execute_result"
    }
   ],
   "source": [
    "questions_df.head()"
   ]
  },
  {
   "cell_type": "code",
   "execution_count": 126,
   "id": "ad4074fc-b4bd-447f-a2bf-8d68df2dd902",
   "metadata": {},
   "outputs": [
    {
     "name": "stdout",
     "output_type": "stream",
     "text": [
      "<class 'pandas.core.frame.DataFrame'>\n",
      "RangeIndex: 13523 entries, 0 to 13522\n",
      "Data columns (total 5 columns):\n",
      " #   Column          Non-Null Count  Dtype \n",
      "---  ------          --------------  ----- \n",
      " 0   question_id     13523 non-null  int64 \n",
      " 1   bundle_id       13523 non-null  int64 \n",
      " 2   correct_answer  13523 non-null  int64 \n",
      " 3   part            13523 non-null  int64 \n",
      " 4   tags            13523 non-null  object\n",
      "dtypes: int64(4), object(1)\n",
      "memory usage: 528.4+ KB\n"
     ]
    }
   ],
   "source": [
    "questions_df.info()"
   ]
  },
  {
   "cell_type": "code",
   "execution_count": 129,
   "id": "d0a18213-534b-4e9d-b29e-15a24f08f329",
   "metadata": {},
   "outputs": [
    {
     "data": {
      "text/plain": [
       "part\n",
       "5    5511\n",
       "2    1647\n",
       "3    1562\n",
       "4    1439\n",
       "6    1212\n",
       "7    1160\n",
       "1     992\n",
       "Name: count, dtype: int64"
      ]
     },
     "execution_count": 129,
     "metadata": {},
     "output_type": "execute_result"
    }
   ],
   "source": [
    "questions_df[\"part\"].value_counts()"
   ]
  },
  {
   "cell_type": "code",
   "execution_count": 130,
   "id": "41ec00e8-c406-4cd4-8dc1-0d01dce7e4bb",
   "metadata": {},
   "outputs": [
    {
     "data": {
      "text/plain": [
       "correct_answer\n",
       "0    3716\n",
       "3    3544\n",
       "1    3478\n",
       "2    2785\n",
       "Name: count, dtype: int64"
      ]
     },
     "execution_count": 130,
     "metadata": {},
     "output_type": "execute_result"
    }
   ],
   "source": [
    "questions_df[\"correct_answer\"].value_counts()"
   ]
  },
  {
   "cell_type": "code",
   "execution_count": null,
   "id": "5535e1b2-9bcd-4638-ad0e-5b7d23db1a08",
   "metadata": {},
   "outputs": [],
   "source": []
  },
  {
   "cell_type": "code",
   "execution_count": null,
   "id": "961fff6e-b12b-4b0b-9334-8d239d81e191",
   "metadata": {},
   "outputs": [],
   "source": []
  },
  {
   "cell_type": "markdown",
   "id": "a3468bde-82b7-4509-a2ec-755eed5ef775",
   "metadata": {},
   "source": [
    "Построение списка тегов"
   ]
  },
  {
   "cell_type": "code",
   "execution_count": 131,
   "id": "e2483c9a-1920-4974-bcb2-d11cb338dd7b",
   "metadata": {},
   "outputs": [],
   "source": [
    "questions_df['tags'] = questions_df['tags'].astype(str)"
   ]
  },
  {
   "cell_type": "code",
   "execution_count": 134,
   "id": "7edb60ee-dd2c-443d-b68a-178e229fb082",
   "metadata": {},
   "outputs": [],
   "source": [
    "tags = [x.split() for x in questions_df[questions_df[\"tags\"] != 0].tags.values]\n",
    "tags = [item for tag_set in tags for item in tag_set]\n",
    "tags = list(set(tags))"
   ]
  },
  {
   "cell_type": "code",
   "execution_count": 135,
   "id": "0d4711f3-9d33-4de7-868b-97a82c62895c",
   "metadata": {},
   "outputs": [
    {
     "data": {
      "text/plain": [
       "188"
      ]
     },
     "execution_count": 135,
     "metadata": {},
     "output_type": "execute_result"
    }
   ],
   "source": [
    "len(tags)"
   ]
  },
  {
   "cell_type": "code",
   "execution_count": 159,
   "id": "6f82f842-c9e6-4e04-b9ee-31570f793f42",
   "metadata": {},
   "outputs": [
    {
     "data": {
      "image/png": "[encoded data removed]",
      "text/plain": [
       "<Figure size 1200x600 with 1 Axes>"
      ]
     },
     "metadata": {},
     "output_type": "display_data"
    }
   ],
   "source": [
    "tags = [x.split() for x in questions_df[questions_df[\"tags\"] != 0].tags.values]\n",
    "tags = [item for tag_set in tags for item in tag_set]\n",
    "tag_counter = Counter(tags)\n",
    "most_common_tags = 30\n",
    "y = [count for tag, count in tag_counter.most_common(most_common_tags)]\n",
    "x = [tag for tag, count in tag_counter.most_common(most_common_tags)]\n",
    "\n",
    "fig = plt.figure(figsize=(12,6))\n",
    "plt.bar(x, y)\n",
    "plt.title(f\"{most_common_tags} самых употребляемых тегов\")\n",
    "plt.ylabel(\"Чстота\")\n",
    "plt.show()"
   ]
  },
  {
   "cell_type": "code",
   "execution_count": null,
   "id": "630f08e6-bf1e-45a2-b47f-f7e7bb9899c7",
   "metadata": {},
   "outputs": [],
   "source": []
  },
  {
   "cell_type": "code",
   "execution_count": 160,
   "id": "fb377e2b-2924-4471-9dee-c03d24bb74b2",
   "metadata": {},
   "outputs": [
    {
     "data": {
      "image/png": "[encoded data removed]",
      "text/plain": [
       "<Figure size 1000x500 with 1 Axes>"
      ]
     },
     "metadata": {},
     "output_type": "display_data"
    }
   ],
   "source": [
    "plt.figure(figsize=(10,5))\n",
    "sns.countplot(x='part', data=questions_df, order=questions_df['part'].value_counts().index)\n",
    "plt.title('Распределение вопросов по категориям')\n",
    "plt.xlabel(\"Категории вопросов\")\n",
    "plt.ylabel(\"Количество вопросов\")\n",
    "plt.show()  "
   ]
  },
  {
   "cell_type": "code",
   "execution_count": null,
   "id": "975fdfb9-2f29-4ece-ba0e-cd3f5b401cdf",
   "metadata": {},
   "outputs": [],
   "source": []
  },
  {
   "cell_type": "markdown",
   "id": "d3c20a3f-757f-4283-9c0d-1f1b6b2479f5",
   "metadata": {},
   "source": [
    "Можно построить зависимость правильности ответа от тега вопроса. Можно построить корректность ответов для каждой категории."
   ]
  },
  {
   "cell_type": "code",
   "execution_count": 161,
   "id": "3d80121c-54c7-44f8-9178-b2e4b5c5179c",
   "metadata": {},
   "outputs": [],
   "source": [
    "answered_question_mask = (train_df[\"answered_correctly\"] != -1)"
   ]
  },
  {
   "cell_type": "code",
   "execution_count": 167,
   "id": "9a8cc909-31a5-4f91-befc-cb12b1dc8d54",
   "metadata": {},
   "outputs": [],
   "source": [
    "answered_correctly_df = (\n",
    "    train_df.loc[answered_question_mask]\n",
    "    .groupby([\"content_id\", 'answered_correctly'], as_index=False)\n",
    "    .size()\n",
    ")\n",
    "answered_correctly_df = answered_correctly_df.pivot(index= \"content_id\", columns='answered_correctly', values='size')\n",
    "answered_correctly_df.columns = ['wrong', 'right']\n",
    "answered_correctly_df = answered_correctly_df.fillna(0)"
   ]
  },
  {
   "cell_type": "code",
   "execution_count": 168,
   "id": "a79cc1d0-07ed-4b7f-8c85-06b17c76a4b3",
   "metadata": {},
   "outputs": [
    {
     "data": {
      "text/html": [
       "<div>\n",
       "<style scoped>\n",
       "    .dataframe tbody tr th:only-of-type {\n",
       "        vertical-align: middle;\n",
       "    }\n",
       "\n",
       "    .dataframe tbody tr th {\n",
       "        vertical-align: top;\n",
       "    }\n",
       "\n",
       "    .dataframe thead th {\n",
       "        text-align: right;\n",
       "    }\n",
       "</style>\n",
       "<table border=\"1\" class=\"dataframe\">\n",
       "  <thead>\n",
       "    <tr style=\"text-align: right;\">\n",
       "      <th></th>\n",
       "      <th>wrong</th>\n",
       "      <th>right</th>\n",
       "    </tr>\n",
       "    <tr>\n",
       "      <th>content_id</th>\n",
       "      <th></th>\n",
       "      <th></th>\n",
       "    </tr>\n",
       "  </thead>\n",
       "  <tbody>\n",
       "    <tr>\n",
       "      <th>0</th>\n",
       "      <td>637.0</td>\n",
       "      <td>6266.0</td>\n",
       "    </tr>\n",
       "    <tr>\n",
       "      <th>1</th>\n",
       "      <td>809.0</td>\n",
       "      <td>6589.0</td>\n",
       "    </tr>\n",
       "    <tr>\n",
       "      <th>2</th>\n",
       "      <td>20015.0</td>\n",
       "      <td>24890.0</td>\n",
       "    </tr>\n",
       "    <tr>\n",
       "      <th>3</th>\n",
       "      <td>5067.0</td>\n",
       "      <td>17906.0</td>\n",
       "    </tr>\n",
       "    <tr>\n",
       "      <th>4</th>\n",
       "      <td>12275.0</td>\n",
       "      <td>19461.0</td>\n",
       "    </tr>\n",
       "  </tbody>\n",
       "</table>\n",
       "</div>"
      ],
      "text/plain": [
       "              wrong    right\n",
       "content_id                  \n",
       "0             637.0   6266.0\n",
       "1             809.0   6589.0\n",
       "2           20015.0  24890.0\n",
       "3            5067.0  17906.0\n",
       "4           12275.0  19461.0"
      ]
     },
     "execution_count": 168,
     "metadata": {},
     "output_type": "execute_result"
    }
   ],
   "source": [
    "answered_correctly_df.head()"
   ]
  },
  {
   "cell_type": "code",
   "execution_count": 169,
   "id": "3a206e9e-d89a-40f1-878f-1939e8a9172b",
   "metadata": {},
   "outputs": [],
   "source": [
    "questions_answers_df = questions_df.merge(answered_correctly_df, left_on=\"question_id\", right_on=\"content_id\", how=\"left\")"
   ]
  },
  {
   "cell_type": "code",
   "execution_count": 170,
   "id": "a5795b17-6b6c-4475-b34d-c99d7abd8b10",
   "metadata": {},
   "outputs": [],
   "source": [
    "tags_list = [x.split() for x in questions_answers_df.tags.values]\n",
    "questions_answers_df['tags'] = tags_list"
   ]
  },
  {
   "cell_type": "code",
   "execution_count": 171,
   "id": "0d0edcb0-5ad4-4a85-9ae5-acfa6ab9312c",
   "metadata": {},
   "outputs": [
    {
     "data": {
      "text/html": [
       "<div>\n",
       "<style scoped>\n",
       "    .dataframe tbody tr th:only-of-type {\n",
       "        vertical-align: middle;\n",
       "    }\n",
       "\n",
       "    .dataframe tbody tr th {\n",
       "        vertical-align: top;\n",
       "    }\n",
       "\n",
       "    .dataframe thead th {\n",
       "        text-align: right;\n",
       "    }\n",
       "</style>\n",
       "<table border=\"1\" class=\"dataframe\">\n",
       "  <thead>\n",
       "    <tr style=\"text-align: right;\">\n",
       "      <th></th>\n",
       "      <th>question_id</th>\n",
       "      <th>bundle_id</th>\n",
       "      <th>correct_answer</th>\n",
       "      <th>part</th>\n",
       "      <th>tags</th>\n",
       "      <th>wrong</th>\n",
       "      <th>right</th>\n",
       "    </tr>\n",
       "  </thead>\n",
       "  <tbody>\n",
       "    <tr>\n",
       "      <th>0</th>\n",
       "      <td>0</td>\n",
       "      <td>0</td>\n",
       "      <td>0</td>\n",
       "      <td>1</td>\n",
       "      <td>[51, 131, 162, 38]</td>\n",
       "      <td>637.0</td>\n",
       "      <td>6266.0</td>\n",
       "    </tr>\n",
       "    <tr>\n",
       "      <th>1</th>\n",
       "      <td>1</td>\n",
       "      <td>1</td>\n",
       "      <td>1</td>\n",
       "      <td>1</td>\n",
       "      <td>[131, 36, 81]</td>\n",
       "      <td>809.0</td>\n",
       "      <td>6589.0</td>\n",
       "    </tr>\n",
       "    <tr>\n",
       "      <th>2</th>\n",
       "      <td>2</td>\n",
       "      <td>2</td>\n",
       "      <td>0</td>\n",
       "      <td>1</td>\n",
       "      <td>[131, 101, 162, 92]</td>\n",
       "      <td>20015.0</td>\n",
       "      <td>24890.0</td>\n",
       "    </tr>\n",
       "    <tr>\n",
       "      <th>3</th>\n",
       "      <td>3</td>\n",
       "      <td>3</td>\n",
       "      <td>0</td>\n",
       "      <td>1</td>\n",
       "      <td>[131, 149, 162, 29]</td>\n",
       "      <td>5067.0</td>\n",
       "      <td>17906.0</td>\n",
       "    </tr>\n",
       "    <tr>\n",
       "      <th>4</th>\n",
       "      <td>4</td>\n",
       "      <td>4</td>\n",
       "      <td>3</td>\n",
       "      <td>1</td>\n",
       "      <td>[131, 5, 162, 38]</td>\n",
       "      <td>12275.0</td>\n",
       "      <td>19461.0</td>\n",
       "    </tr>\n",
       "  </tbody>\n",
       "</table>\n",
       "</div>"
      ],
      "text/plain": [
       "   question_id  bundle_id  correct_answer  part                 tags    wrong  \\\n",
       "0            0          0               0     1   [51, 131, 162, 38]    637.0   \n",
       "1            1          1               1     1        [131, 36, 81]    809.0   \n",
       "2            2          2               0     1  [131, 101, 162, 92]  20015.0   \n",
       "3            3          3               0     1  [131, 149, 162, 29]   5067.0   \n",
       "4            4          4               3     1    [131, 5, 162, 38]  12275.0   \n",
       "\n",
       "     right  \n",
       "0   6266.0  \n",
       "1   6589.0  \n",
       "2  24890.0  \n",
       "3  17906.0  \n",
       "4  19461.0  "
      ]
     },
     "execution_count": 171,
     "metadata": {},
     "output_type": "execute_result"
    }
   ],
   "source": [
    "questions_answers_df.head()"
   ]
  },
  {
   "cell_type": "code",
   "execution_count": 177,
   "id": "cf43de70-baef-4557-83bd-ca82109c1cb6",
   "metadata": {},
   "outputs": [
    {
     "data": {
      "text/plain": [
       "(13523, 7)"
      ]
     },
     "execution_count": 177,
     "metadata": {},
     "output_type": "execute_result"
    }
   ],
   "source": [
    "questions_answers_df.shape"
   ]
  },
  {
   "cell_type": "markdown",
   "id": "9470696b-1b11-4e24-b53c-73c0ab979921",
   "metadata": {},
   "source": [
    "Теперь я могу сложить все Неправильные и Правильные ответы для всех вопросов, помеченных определенным тегом, и вычислить процент правильных ответов для каждого тега. \n",
    "Обратите внимание, что существует «двойной подсчет» вопросов; например, если у вопроса 5 тегов, его ответы суммируются в суммах каждого из 5 тегов."
   ]
  },
  {
   "cell_type": "code",
   "execution_count": null,
   "id": "42aab204-cfd2-493c-ab63-d93d44d09e77",
   "metadata": {},
   "outputs": [],
   "source": []
  },
  {
   "cell_type": "code",
   "execution_count": null,
   "id": "53d1d7cf-9f8f-40dd-a6a3-0b478e31a4f2",
   "metadata": {},
   "outputs": [],
   "source": []
  },
  {
   "cell_type": "code",
   "execution_count": null,
   "id": "d5c6c126-5fa1-4214-8be4-1e10353b0a2d",
   "metadata": {},
   "outputs": [],
   "source": [
    "Выводы:\n",
    "- "
   ]
  },
  {
   "cell_type": "code",
   "execution_count": null,
   "id": "251568e0-068a-40ea-bcee-335797a7ee11",
   "metadata": {},
   "outputs": [],
   "source": []
  },
  {
   "cell_type": "markdown",
   "id": "77e9f5e9-f647-4b2b-ba44-fda503167945",
   "metadata": {},
   "source": [
    "## EDA Lectures"
   ]
  },
  {
   "cell_type": "code",
   "execution_count": 113,
   "id": "42015a41-1671-46bc-8b7a-9c096f122088",
   "metadata": {},
   "outputs": [
    {
     "data": {
      "text/html": [
       "<div>\n",
       "<style scoped>\n",
       "    .dataframe tbody tr th:only-of-type {\n",
       "        vertical-align: middle;\n",
       "    }\n",
       "\n",
       "    .dataframe tbody tr th {\n",
       "        vertical-align: top;\n",
       "    }\n",
       "\n",
       "    .dataframe thead th {\n",
       "        text-align: right;\n",
       "    }\n",
       "</style>\n",
       "<table border=\"1\" class=\"dataframe\">\n",
       "  <thead>\n",
       "    <tr style=\"text-align: right;\">\n",
       "      <th></th>\n",
       "      <th>lecture_id</th>\n",
       "      <th>tag</th>\n",
       "      <th>part</th>\n",
       "      <th>type_of</th>\n",
       "    </tr>\n",
       "  </thead>\n",
       "  <tbody>\n",
       "    <tr>\n",
       "      <th>0</th>\n",
       "      <td>89</td>\n",
       "      <td>159</td>\n",
       "      <td>5</td>\n",
       "      <td>concept</td>\n",
       "    </tr>\n",
       "    <tr>\n",
       "      <th>1</th>\n",
       "      <td>100</td>\n",
       "      <td>70</td>\n",
       "      <td>1</td>\n",
       "      <td>concept</td>\n",
       "    </tr>\n",
       "    <tr>\n",
       "      <th>2</th>\n",
       "      <td>185</td>\n",
       "      <td>45</td>\n",
       "      <td>6</td>\n",
       "      <td>concept</td>\n",
       "    </tr>\n",
       "    <tr>\n",
       "      <th>3</th>\n",
       "      <td>192</td>\n",
       "      <td>79</td>\n",
       "      <td>5</td>\n",
       "      <td>solving question</td>\n",
       "    </tr>\n",
       "    <tr>\n",
       "      <th>4</th>\n",
       "      <td>317</td>\n",
       "      <td>156</td>\n",
       "      <td>5</td>\n",
       "      <td>solving question</td>\n",
       "    </tr>\n",
       "  </tbody>\n",
       "</table>\n",
       "</div>"
      ],
      "text/plain": [
       "   lecture_id  tag  part           type_of\n",
       "0          89  159     5           concept\n",
       "1         100   70     1           concept\n",
       "2         185   45     6           concept\n",
       "3         192   79     5  solving question\n",
       "4         317  156     5  solving question"
      ]
     },
     "execution_count": 113,
     "metadata": {},
     "output_type": "execute_result"
    }
   ],
   "source": [
    "lectures_df.head()"
   ]
  },
  {
   "cell_type": "code",
   "execution_count": 68,
   "id": "1c82874b-a309-4fba-a843-e706b55d751a",
   "metadata": {},
   "outputs": [
    {
     "data": {
      "text/plain": [
       "(418, 4)"
      ]
     },
     "execution_count": 68,
     "metadata": {},
     "output_type": "execute_result"
    }
   ],
   "source": [
    "lectures_df.shape"
   ]
  },
  {
   "cell_type": "markdown",
   "id": "2e8b49aa-6c49-472b-bd2e-938bd12672b7",
   "metadata": {},
   "source": [
    "Проверка пропусков"
   ]
  },
  {
   "cell_type": "code",
   "execution_count": 115,
   "id": "c472495b-3c44-4316-b3d8-87cc73ec542f",
   "metadata": {},
   "outputs": [
    {
     "data": {
      "text/plain": [
       "0"
      ]
     },
     "execution_count": 115,
     "metadata": {},
     "output_type": "execute_result"
    }
   ],
   "source": [
    "sum(lectures_df.tag.isna())"
   ]
  },
  {
   "cell_type": "code",
   "execution_count": 116,
   "id": "490372c9-ecd7-4ee8-9e7c-80867cfc5cc9",
   "metadata": {},
   "outputs": [
    {
     "data": {
      "text/plain": [
       "0"
      ]
     },
     "execution_count": 116,
     "metadata": {},
     "output_type": "execute_result"
    }
   ],
   "source": [
    "sum(lectures_df.part.isna())"
   ]
  },
  {
   "cell_type": "code",
   "execution_count": 117,
   "id": "2d3e8329-ddac-4df2-8b85-6a9326a0bf01",
   "metadata": {},
   "outputs": [
    {
     "data": {
      "text/plain": [
       "0"
      ]
     },
     "execution_count": 117,
     "metadata": {},
     "output_type": "execute_result"
    }
   ],
   "source": [
    "sum(lectures_df.type_of.isna())"
   ]
  },
  {
   "cell_type": "code",
   "execution_count": 137,
   "id": "75758ba4-e574-4d12-9665-4b6675d1b432",
   "metadata": {},
   "outputs": [
    {
     "data": {
      "text/plain": [
       "(151,)"
      ]
     },
     "execution_count": 137,
     "metadata": {},
     "output_type": "execute_result"
    }
   ],
   "source": [
    "lectures_df[\"tag\"].value_counts().shape"
   ]
  },
  {
   "cell_type": "code",
   "execution_count": null,
   "id": "dcd1456c-e9b0-459e-851e-f89a3ac157a9",
   "metadata": {},
   "outputs": [],
   "source": []
  },
  {
   "cell_type": "code",
   "execution_count": null,
   "id": "1de7d0a0-076f-4b63-81c7-844a98902fa1",
   "metadata": {},
   "outputs": [],
   "source": []
  },
  {
   "cell_type": "code",
   "execution_count": 69,
   "id": "117e1971-c1ee-49c5-a476-1c4605184c23",
   "metadata": {},
   "outputs": [
    {
     "data": {
      "text/plain": [
       "type_of\n",
       "concept             222\n",
       "solving question    186\n",
       "intention             7\n",
       "starter               3\n",
       "Name: count, dtype: int64"
      ]
     },
     "execution_count": 69,
     "metadata": {},
     "output_type": "execute_result"
    }
   ],
   "source": [
    "lectures_df[\"type_of\"].value_counts()"
   ]
  },
  {
   "cell_type": "code",
   "execution_count": 77,
   "id": "18e01400-a866-4d3a-a193-e6910a728b29",
   "metadata": {},
   "outputs": [
    {
     "data": {
      "image/png": "[encoded data removed]",
      "text/plain": [
       "<Figure size 640x480 with 1 Axes>"
      ]
     },
     "metadata": {},
     "output_type": "display_data"
    }
   ],
   "source": [
    "sns.countplot(x='type_of', data=lectures_df, order=lectures_df['type_of'].value_counts().index)\n",
    "plt.title('Типы лекций')\n",
    "plt.xticks(rotation=90)\n",
    "plt.show()  "
   ]
  },
  {
   "cell_type": "code",
   "execution_count": 80,
   "id": "194d4548-7c1b-4554-9ed2-dc12377956c5",
   "metadata": {},
   "outputs": [
    {
     "data": {
      "text/plain": [
       "part\n",
       "5    143\n",
       "6     83\n",
       "2     56\n",
       "1     54\n",
       "7     32\n",
       "4     31\n",
       "3     19\n",
       "Name: count, dtype: int64"
      ]
     },
     "execution_count": 80,
     "metadata": {},
     "output_type": "execute_result"
    }
   ],
   "source": [
    "lectures_df[\"part\"].value_counts()"
   ]
  },
  {
   "cell_type": "code",
   "execution_count": 81,
   "id": "1828b256-29ef-418b-a3ed-8dd0e98c98d9",
   "metadata": {},
   "outputs": [
    {
     "data": {
      "image/png": "[encoded data removed]",
      "text/plain": [
       "<Figure size 640x480 with 1 Axes>"
      ]
     },
     "metadata": {},
     "output_type": "display_data"
    }
   ],
   "source": [
    "sns.countplot(x='part', data=lectures_df, order=lectures_df['part'].value_counts().index)\n",
    "plt.title('Категории лекций')\n",
    "plt.xticks(rotation=90)\n",
    "plt.show()  "
   ]
  },
  {
   "cell_type": "code",
   "execution_count": 73,
   "id": "1a1a1949-913c-4663-b660-d7b87439db4c",
   "metadata": {},
   "outputs": [
    {
     "data": {
      "image/png": "[encoded data removed]",
      "text/plain": [
       "<Figure size 1500x500 with 1 Axes>"
      ]
     },
     "metadata": {},
     "output_type": "display_data"
    }
   ],
   "source": [
    "plt.figure(figsize=(15, 5))\n",
    "sns.countplot(x='tag', data=lectures_df, order=lectures_df['tag'].value_counts().iloc[:50].index)\n",
    "plt.title('Количество употреблений тегов')\n",
    "plt.xticks(rotation=90)\n",
    "plt.show()"
   ]
  },
  {
   "cell_type": "code",
   "execution_count": 82,
   "id": "b20cbe04-adba-40ca-8597-d485cac5da7a",
   "metadata": {},
   "outputs": [
    {
     "data": {
      "image/png": "[encoded data removed]",
      "text/plain": [
       "<Figure size 1000x500 with 1 Axes>"
      ]
     },
     "metadata": {},
     "output_type": "display_data"
    }
   ],
   "source": [
    "plt.figure(figsize=(10,5))\n",
    "sns.countplot(x='part', data=lectures_df, hue='type_of', order=lectures_df['part'].value_counts().index)\n",
    "plt.title('Связь категории и типа лекции')\n",
    "plt.xticks(rotation=90)\n",
    "plt.show()  "
   ]
  },
  {
   "cell_type": "markdown",
   "id": "07a3a7c4-0ba4-4163-afae-34ec5bd775f1",
   "metadata": {},
   "source": [
    "Посмотрю на связь оценки и просмотра лекций"
   ]
  },
  {
   "cell_type": "code",
   "execution_count": 90,
   "id": "fbd15654-eae2-4147-8e57-3ef5eada6d29",
   "metadata": {},
   "outputs": [
    {
     "data": {
      "text/html": [
       "<div>\n",
       "<style scoped>\n",
       "    .dataframe tbody tr th:only-of-type {\n",
       "        vertical-align: middle;\n",
       "    }\n",
       "\n",
       "    .dataframe tbody tr th {\n",
       "        vertical-align: top;\n",
       "    }\n",
       "\n",
       "    .dataframe thead th {\n",
       "        text-align: right;\n",
       "    }\n",
       "</style>\n",
       "<table border=\"1\" class=\"dataframe\">\n",
       "  <thead>\n",
       "    <tr style=\"text-align: right;\">\n",
       "      <th>answered_correctly</th>\n",
       "      <th>-1</th>\n",
       "      <th>0</th>\n",
       "      <th>1</th>\n",
       "    </tr>\n",
       "    <tr>\n",
       "      <th>user_id</th>\n",
       "      <th></th>\n",
       "      <th></th>\n",
       "      <th></th>\n",
       "    </tr>\n",
       "  </thead>\n",
       "  <tbody>\n",
       "    <tr>\n",
       "      <th>115</th>\n",
       "      <td>NaN</td>\n",
       "      <td>14.0</td>\n",
       "      <td>32.0</td>\n",
       "    </tr>\n",
       "    <tr>\n",
       "      <th>124</th>\n",
       "      <td>NaN</td>\n",
       "      <td>23.0</td>\n",
       "      <td>7.0</td>\n",
       "    </tr>\n",
       "    <tr>\n",
       "      <th>2746</th>\n",
       "      <td>1.0</td>\n",
       "      <td>8.0</td>\n",
       "      <td>11.0</td>\n",
       "    </tr>\n",
       "    <tr>\n",
       "      <th>5382</th>\n",
       "      <td>3.0</td>\n",
       "      <td>41.0</td>\n",
       "      <td>84.0</td>\n",
       "    </tr>\n",
       "    <tr>\n",
       "      <th>8623</th>\n",
       "      <td>3.0</td>\n",
       "      <td>39.0</td>\n",
       "      <td>70.0</td>\n",
       "    </tr>\n",
       "  </tbody>\n",
       "</table>\n",
       "</div>"
      ],
      "text/plain": [
       "answered_correctly   -1     0     1\n",
       "user_id                            \n",
       "115                 NaN  14.0  32.0\n",
       "124                 NaN  23.0   7.0\n",
       "2746                1.0   8.0  11.0\n",
       "5382                3.0  41.0  84.0\n",
       "8623                3.0  39.0  70.0"
      ]
     },
     "execution_count": 90,
     "metadata": {},
     "output_type": "execute_result"
    }
   ],
   "source": [
    "user_lecture_df = (\n",
    "    train_df.groupby([\"user_id\", \"answered_correctly\"])\n",
    "    .size()\n",
    "    .unstack()\n",
    ")\n",
    "user_lecture_df.head()"
   ]
  },
  {
   "cell_type": "code",
   "execution_count": 91,
   "id": "3b11918a-c6f1-4231-a2c4-373ac4c7859f",
   "metadata": {},
   "outputs": [],
   "source": [
    "user_lecture_df.columns = ['lecture', 'wrong', 'right']"
   ]
  },
  {
   "cell_type": "code",
   "execution_count": 95,
   "id": "9fa6b2c2-767d-4f67-a32d-562380bcc852",
   "metadata": {},
   "outputs": [],
   "source": [
    "user_lecture_df['lecture'] = user_lecture_df['lecture'].fillna(0)"
   ]
  },
  {
   "cell_type": "code",
   "execution_count": 96,
   "id": "be5d393c-83df-4891-b5be-2032d72423c6",
   "metadata": {},
   "outputs": [
    {
     "data": {
      "text/html": [
       "<div>\n",
       "<style scoped>\n",
       "    .dataframe tbody tr th:only-of-type {\n",
       "        vertical-align: middle;\n",
       "    }\n",
       "\n",
       "    .dataframe tbody tr th {\n",
       "        vertical-align: top;\n",
       "    }\n",
       "\n",
       "    .dataframe thead th {\n",
       "        text-align: right;\n",
       "    }\n",
       "</style>\n",
       "<table border=\"1\" class=\"dataframe\">\n",
       "  <thead>\n",
       "    <tr style=\"text-align: right;\">\n",
       "      <th></th>\n",
       "      <th>lecture</th>\n",
       "      <th>wrong</th>\n",
       "      <th>right</th>\n",
       "    </tr>\n",
       "    <tr>\n",
       "      <th>user_id</th>\n",
       "      <th></th>\n",
       "      <th></th>\n",
       "      <th></th>\n",
       "    </tr>\n",
       "  </thead>\n",
       "  <tbody>\n",
       "    <tr>\n",
       "      <th>115</th>\n",
       "      <td>0.0</td>\n",
       "      <td>14.0</td>\n",
       "      <td>32.0</td>\n",
       "    </tr>\n",
       "    <tr>\n",
       "      <th>124</th>\n",
       "      <td>0.0</td>\n",
       "      <td>23.0</td>\n",
       "      <td>7.0</td>\n",
       "    </tr>\n",
       "    <tr>\n",
       "      <th>2746</th>\n",
       "      <td>1.0</td>\n",
       "      <td>8.0</td>\n",
       "      <td>11.0</td>\n",
       "    </tr>\n",
       "    <tr>\n",
       "      <th>5382</th>\n",
       "      <td>3.0</td>\n",
       "      <td>41.0</td>\n",
       "      <td>84.0</td>\n",
       "    </tr>\n",
       "    <tr>\n",
       "      <th>8623</th>\n",
       "      <td>3.0</td>\n",
       "      <td>39.0</td>\n",
       "      <td>70.0</td>\n",
       "    </tr>\n",
       "  </tbody>\n",
       "</table>\n",
       "</div>"
      ],
      "text/plain": [
       "         lecture  wrong  right\n",
       "user_id                       \n",
       "115          0.0   14.0   32.0\n",
       "124          0.0   23.0    7.0\n",
       "2746         1.0    8.0   11.0\n",
       "5382         3.0   41.0   84.0\n",
       "8623         3.0   39.0   70.0"
      ]
     },
     "execution_count": 96,
     "metadata": {},
     "output_type": "execute_result"
    }
   ],
   "source": [
    "user_lecture_df.head()"
   ]
  },
  {
   "cell_type": "code",
   "execution_count": 97,
   "id": "66f5d530-a4f8-4ef9-822b-d9680ebbe6a6",
   "metadata": {},
   "outputs": [],
   "source": [
    "user_lecture_df['watch_lecture'] = user_lecture_df['lecture'].apply(lambda x: x > 0)"
   ]
  },
  {
   "cell_type": "code",
   "execution_count": 98,
   "id": "7edd1bda-9d11-4892-94fa-ff3bca998cc6",
   "metadata": {},
   "outputs": [
    {
     "data": {
      "text/html": [
       "<div>\n",
       "<style scoped>\n",
       "    .dataframe tbody tr th:only-of-type {\n",
       "        vertical-align: middle;\n",
       "    }\n",
       "\n",
       "    .dataframe tbody tr th {\n",
       "        vertical-align: top;\n",
       "    }\n",
       "\n",
       "    .dataframe thead th {\n",
       "        text-align: right;\n",
       "    }\n",
       "</style>\n",
       "<table border=\"1\" class=\"dataframe\">\n",
       "  <thead>\n",
       "    <tr style=\"text-align: right;\">\n",
       "      <th></th>\n",
       "      <th>lecture</th>\n",
       "      <th>wrong</th>\n",
       "      <th>right</th>\n",
       "      <th>watch_lecture</th>\n",
       "    </tr>\n",
       "    <tr>\n",
       "      <th>user_id</th>\n",
       "      <th></th>\n",
       "      <th></th>\n",
       "      <th></th>\n",
       "      <th></th>\n",
       "    </tr>\n",
       "  </thead>\n",
       "  <tbody>\n",
       "    <tr>\n",
       "      <th>115</th>\n",
       "      <td>0.0</td>\n",
       "      <td>14.0</td>\n",
       "      <td>32.0</td>\n",
       "      <td>False</td>\n",
       "    </tr>\n",
       "    <tr>\n",
       "      <th>124</th>\n",
       "      <td>0.0</td>\n",
       "      <td>23.0</td>\n",
       "      <td>7.0</td>\n",
       "      <td>False</td>\n",
       "    </tr>\n",
       "    <tr>\n",
       "      <th>2746</th>\n",
       "      <td>1.0</td>\n",
       "      <td>8.0</td>\n",
       "      <td>11.0</td>\n",
       "      <td>True</td>\n",
       "    </tr>\n",
       "    <tr>\n",
       "      <th>5382</th>\n",
       "      <td>3.0</td>\n",
       "      <td>41.0</td>\n",
       "      <td>84.0</td>\n",
       "      <td>True</td>\n",
       "    </tr>\n",
       "    <tr>\n",
       "      <th>8623</th>\n",
       "      <td>3.0</td>\n",
       "      <td>39.0</td>\n",
       "      <td>70.0</td>\n",
       "      <td>True</td>\n",
       "    </tr>\n",
       "  </tbody>\n",
       "</table>\n",
       "</div>"
      ],
      "text/plain": [
       "         lecture  wrong  right  watch_lecture\n",
       "user_id                                      \n",
       "115          0.0   14.0   32.0          False\n",
       "124          0.0   23.0    7.0          False\n",
       "2746         1.0    8.0   11.0           True\n",
       "5382         3.0   41.0   84.0           True\n",
       "8623         3.0   39.0   70.0           True"
      ]
     },
     "execution_count": 98,
     "metadata": {},
     "output_type": "execute_result"
    }
   ],
   "source": [
    "user_lecture_df.head()"
   ]
  },
  {
   "cell_type": "code",
   "execution_count": 100,
   "id": "57a7a308-79c3-4075-8e79-016c148ccad5",
   "metadata": {},
   "outputs": [
    {
     "data": {
      "text/html": [
       "<div>\n",
       "<style scoped>\n",
       "    .dataframe tbody tr th:only-of-type {\n",
       "        vertical-align: middle;\n",
       "    }\n",
       "\n",
       "    .dataframe tbody tr th {\n",
       "        vertical-align: top;\n",
       "    }\n",
       "\n",
       "    .dataframe thead tr th {\n",
       "        text-align: left;\n",
       "    }\n",
       "\n",
       "    .dataframe thead tr:last-of-type th {\n",
       "        text-align: right;\n",
       "    }\n",
       "</style>\n",
       "<table border=\"1\" class=\"dataframe\">\n",
       "  <thead>\n",
       "    <tr>\n",
       "      <th></th>\n",
       "      <th>wrong</th>\n",
       "      <th>right</th>\n",
       "    </tr>\n",
       "    <tr>\n",
       "      <th></th>\n",
       "      <th>sum</th>\n",
       "      <th>sum</th>\n",
       "    </tr>\n",
       "    <tr>\n",
       "      <th>watch_lecture</th>\n",
       "      <th></th>\n",
       "      <th></th>\n",
       "    </tr>\n",
       "  </thead>\n",
       "  <tbody>\n",
       "    <tr>\n",
       "      <th>False</th>\n",
       "      <td>5330919.0</td>\n",
       "      <td>7185795.0</td>\n",
       "    </tr>\n",
       "    <tr>\n",
       "      <th>True</th>\n",
       "      <td>28695754.0</td>\n",
       "      <td>58058832.0</td>\n",
       "    </tr>\n",
       "  </tbody>\n",
       "</table>\n",
       "</div>"
      ],
      "text/plain": [
       "                    wrong       right\n",
       "                      sum         sum\n",
       "watch_lecture                        \n",
       "False           5330919.0   7185795.0\n",
       "True           28695754.0  58058832.0"
      ]
     },
     "execution_count": 100,
     "metadata": {},
     "output_type": "execute_result"
    }
   ],
   "source": [
    "watch_lecture_df = (\n",
    "    user_lecture_df.groupby(\"watch_lecture\")\n",
    "    .agg({\n",
    "        'wrong': ['sum'], \n",
    "        'right': ['sum']\n",
    "    })\n",
    ")\n",
    "watch_lecture_df.head()"
   ]
  },
  {
   "cell_type": "code",
   "execution_count": 101,
   "id": "81e74a03-0df7-401a-a87e-3cdf936eaaf6",
   "metadata": {},
   "outputs": [],
   "source": [
    "watch_lecture_df['correct'] = watch_lecture_df[\"right\"] / (watch_lecture_df[\"right\"] + watch_lecture_df[\"wrong\"])"
   ]
  },
  {
   "cell_type": "code",
   "execution_count": 102,
   "id": "1b87d9d5-e166-4719-a487-25b9b0cb3a44",
   "metadata": {},
   "outputs": [
    {
     "data": {
      "text/html": [
       "<div>\n",
       "<style scoped>\n",
       "    .dataframe tbody tr th:only-of-type {\n",
       "        vertical-align: middle;\n",
       "    }\n",
       "\n",
       "    .dataframe tbody tr th {\n",
       "        vertical-align: top;\n",
       "    }\n",
       "\n",
       "    .dataframe thead tr th {\n",
       "        text-align: left;\n",
       "    }\n",
       "\n",
       "    .dataframe thead tr:last-of-type th {\n",
       "        text-align: right;\n",
       "    }\n",
       "</style>\n",
       "<table border=\"1\" class=\"dataframe\">\n",
       "  <thead>\n",
       "    <tr>\n",
       "      <th></th>\n",
       "      <th>wrong</th>\n",
       "      <th>right</th>\n",
       "      <th>correct</th>\n",
       "    </tr>\n",
       "    <tr>\n",
       "      <th></th>\n",
       "      <th>sum</th>\n",
       "      <th>sum</th>\n",
       "      <th></th>\n",
       "    </tr>\n",
       "    <tr>\n",
       "      <th>watch_lecture</th>\n",
       "      <th></th>\n",
       "      <th></th>\n",
       "      <th></th>\n",
       "    </tr>\n",
       "  </thead>\n",
       "  <tbody>\n",
       "    <tr>\n",
       "      <th>False</th>\n",
       "      <td>5330919.0</td>\n",
       "      <td>7185795.0</td>\n",
       "      <td>0.574096</td>\n",
       "    </tr>\n",
       "    <tr>\n",
       "      <th>True</th>\n",
       "      <td>28695754.0</td>\n",
       "      <td>58058832.0</td>\n",
       "      <td>0.669231</td>\n",
       "    </tr>\n",
       "  </tbody>\n",
       "</table>\n",
       "</div>"
      ],
      "text/plain": [
       "                    wrong       right   correct\n",
       "                      sum         sum          \n",
       "watch_lecture                                  \n",
       "False           5330919.0   7185795.0  0.574096\n",
       "True           28695754.0  58058832.0  0.669231"
      ]
     },
     "execution_count": 102,
     "metadata": {},
     "output_type": "execute_result"
    }
   ],
   "source": [
    "watch_lecture_df.head()"
   ]
  },
  {
   "cell_type": "code",
   "execution_count": 108,
   "id": "dc04202e-c9d5-493f-8cb8-98b46652cde0",
   "metadata": {},
   "outputs": [
    {
     "data": {
      "image/png": "[encoded data removed]",
      "text/plain": [
       "<Figure size 640x480 with 1 Axes>"
      ]
     },
     "metadata": {},
     "output_type": "display_data"
    }
   ],
   "source": [
    "watch_lecture = watch_lecture_df.iloc[:, 2]\n",
    "watch_lecture.plot.barh()\n",
    "for i, v in zip(watch_lecture.index, watch_lecture.values):\n",
    "    plt.text(v, i, round(v, 2), color='white', fontweight='bold', fontsize=14, ha='right', va='center')\n",
    "\n",
    "plt.title(\"Правильность ответа в зависимости от просмотра лекции\")\n",
    "plt.xlabel(\"Процент правильных ответов\")\n",
    "plt.ylabel(None)\n",
    "plt.xticks(rotation=0)\n",
    "plt.show()"
   ]
  },
  {
   "cell_type": "code",
   "execution_count": null,
   "id": "99d40104-a665-4115-80db-f3bb3140ef1d",
   "metadata": {},
   "outputs": [],
   "source": []
  },
  {
   "cell_type": "markdown",
   "id": "1984513e-d68d-4792-af7a-f9c0de4c2568",
   "metadata": {},
   "source": [
    "Выводы:\n",
    "- Всего тегов для лекций - 151\n",
    "- Больше всего лекций по концепциям и решениям задач\n",
    "- В каждой категории больше всего лекций, связанных с концепциям и решениям задач\n",
    "- Успеваимость выше у тех студентов, которые смотрели лекции"
   ]
  },
  {
   "cell_type": "code",
   "execution_count": null,
   "id": "197eb40d-c075-4f30-8e47-5182062ea5d4",
   "metadata": {},
   "outputs": [],
   "source": []
  },
  {
   "cell_type": "code",
   "execution_count": null,
   "id": "9bffb3c0-99f8-44fe-8cfb-745d85928555",
   "metadata": {},
   "outputs": [],
   "source": []
  },
  {
   "cell_type": "markdown",
   "id": "7052967f-783f-481e-a64f-16cee3cba125",
   "metadata": {},
   "source": [
    "# END"
   ]
  },
  {
   "cell_type": "code",
   "execution_count": null,
   "id": "09423925-5e7d-4018-8f0e-28d8d7ebeb0c",
   "metadata": {},
   "outputs": [],
   "source": []
  },
  {
   "cell_type": "code",
   "execution_count": null,
   "id": "668ee98e-83a1-45c3-b66d-60b26149c6da",
   "metadata": {},
   "outputs": [],
   "source": []
  },
  {
   "cell_type": "code",
   "execution_count": null,
   "id": "bdd1ae91-fd32-4126-a7b0-cf34954e6f02",
   "metadata": {},
   "outputs": [],
   "source": []
  },
  {
   "cell_type": "code",
   "execution_count": null,
   "id": "1cbefaaa-c5eb-4528-8074-263f1c6949cc",
   "metadata": {},
   "outputs": [],
   "source": []
  },
  {
   "cell_type": "code",
   "execution_count": null,
   "id": "271a7630-d2b1-4627-9302-651b136f38fa",
   "metadata": {},
   "outputs": [],
   "source": []
  },
  {
   "cell_type": "code",
   "execution_count": null,
   "id": "1853fe3a-cdb0-4247-8a66-03507825ac2c",
   "metadata": {},
   "outputs": [],
   "source": []
  },
  {
   "cell_type": "code",
   "execution_count": null,
   "id": "b6d34993-e5bc-4a1a-a2e5-084fcd0ea2c6",
   "metadata": {},
   "outputs": [],
   "source": []
  },
  {
   "cell_type": "code",
   "execution_count": null,
   "id": "1969ff1e-c9c0-4f7d-91a7-0836e23b3987",
   "metadata": {},
   "outputs": [],
   "source": []
  },
  {
   "cell_type": "code",
   "execution_count": null,
   "id": "6198bc59-9934-4020-bcff-742fa267318c",
   "metadata": {},
   "outputs": [],
   "source": []
  },
  {
   "cell_type": "code",
   "execution_count": null,
   "id": "d722747e-a51d-44c0-9933-f864a85ad577",
   "metadata": {},
   "outputs": [],
   "source": []
  },
  {
   "cell_type": "code",
   "execution_count": null,
   "id": "4d69d8f0-7c20-4e31-b4f8-2caf5f26e1be",
   "metadata": {},
   "outputs": [],
   "source": []
  },
  {
   "cell_type": "code",
   "execution_count": null,
   "id": "78cc4f3c-7b2f-4e6d-9f87-b8d3235a683f",
   "metadata": {},
   "outputs": [],
   "source": []
  },
  {
   "cell_type": "code",
   "execution_count": null,
   "id": "769f4487-0618-4bbe-bfbb-2b3c857f3e66",
   "metadata": {},
   "outputs": [],
   "source": []
  },
  {
   "cell_type": "code",
   "execution_count": null,
   "id": "b19cae87-9295-422d-b4ca-e07a3f13de43",
   "metadata": {},
   "outputs": [],
   "source": []
  }
 ],
 "metadata": {
  "kernelspec": {
   "display_name": "Python 3 (ipykernel)",
   "language": "python",
   "name": "python3"
  },
  "language_info": {
   "codemirror_mode": {
    "name": "ipython",
    "version": 3
   },
   "file_extension": ".py",
   "mimetype": "text/x-python",
   "name": "python",
   "nbconvert_exporter": "python",
   "pygments_lexer": "ipython3",
   "version": "3.12.5"
  }
 },
 "nbformat": 4,
 "nbformat_minor": 5
}
